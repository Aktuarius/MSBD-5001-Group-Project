{
 "cells": [
  {
   "cell_type": "code",
   "execution_count": null,
   "id": "e642d078",
   "metadata": {},
   "outputs": [],
   "source": [
    "import numpy as np\n",
    "import pandas as pd\n",
    "import os\n",
    "from pathlib import Path\n",
    "\n",
    "from numpy import arange\n",
    "from sklearn.model_selection import GridSearchCV\n",
    "from sklearn.model_selection import RepeatedKFold\n",
    "from sklearn.linear_model import Ridge, RidgeCV\n",
    "from sklearn.metrics import mean_squared_error\n",
    "\n",
    "import matplotlib.pyplot as plt\n",
    "from matplotlib.pyplot import figure\n",
    "\n",
    "print(os.path.abspath(\".\"))\n",
    "\n",
    "# Specify Country:\n",
    "country = ['Algeria','Angola','Benin','Botswana','Burkina Faso','Burundi','Cameroon','Chad','Comoros','Djibouti','Eritrea',\n",
    "           'Ethiopia','Gabon','Ghana','Guinea','Kenya','Lesotho','Madagascar','Malawi','Mali','Mauritania','Morocco',\n",
    "           'Mozambique','Namibia','Niger','Nigeria','Rwanda','Senegal','Sierra Leone','Somalia','Togo','Tunisia','Uganda',\n",
    "           'Zambia','Zimbabwe']"
   ]
  },
  {
   "cell_type": "markdown",
   "id": "ee661d66",
   "metadata": {},
   "source": [
    "#### Load & Preprocessing:"
   ]
  },
  {
   "cell_type": "code",
   "execution_count": 26,
   "id": "fdd63890",
   "metadata": {},
   "outputs": [],
   "source": [
    "def get_yield_data() -> pd.DataFrame:\n",
    "    yieldPath = Path(str(Path(os.getcwd()).parent.absolute()) + '/Group Project/Data/Yields/all_country_crop_yield_tons_per_hectare.csv')\n",
    "    df = pd.read_csv(yieldPath)\n",
    "    #df = df[df['Country Name'].isin(country)]\n",
    "    df = df.melt(id_vars=[\"Country Name\"], # narrow format \n",
    "                var_name=\"Year\",   # rename\n",
    "              value_name=\"Yield\")  # rename\n",
    "    df['Year'] = df['Year'].astype(int)\n",
    "    return df\n",
    "\n",
    "dfYieldLabel = get_yield_data()\n",
    "#dfYieldLabel\n",
    "\n",
    "# Expand this to include combine function below....\n",
    "def get_VI_data() -> pd.DataFrame:\n",
    "    trainPath = Path(str(Path(os.getcwd()).parent.absolute()) + '/Group Project/Data/NDVI/Country_EVI_NDVI.csv')\n",
    "    df = pd.read_csv(trainPath)\n",
    "    #df = df[df['Country Name'].isin(country)]\n",
    "    df['Year'] = pd.DatetimeIndex(df['Date']).year.astype(int)\n",
    "    df = df.groupby(['Country Name', 'Year'], as_index=False).mean() # avg by year\n",
    "    return df\n",
    "\n",
    "dfTrainData = get_VI_data()\n",
    "#dfTrainData"
   ]
  },
  {
   "cell_type": "code",
   "execution_count": 28,
   "id": "95e901be",
   "metadata": {},
   "outputs": [],
   "source": [
    "#### Yield Data:\n",
    "\n",
    "def get_yield_data() -> pd.DataFrame:\n",
    "    yieldPath = Path(str(Path(os.getcwd()).parent.absolute()) + '/Group Project/Data/Yields/all_country_crop_yield_tons_per_hectare.csv')\n",
    "    df = pd.read_csv(yieldPath)\n",
    "    #df = df[df['Country Name'].isin(country)]\n",
    "    df = df.melt(id_vars=[\"Country Name\"], # narrow format \n",
    "                var_name=\"Year\",   # rename\n",
    "              value_name=\"Yield\")  # rename\n",
    "    df['Year'] = df['Year'].astype(int)\n",
    "    return df\n",
    "\n",
    "dfYieldLabel = get_yield_data()\n",
    "#dfYieldLabel"
   ]
  },
  {
   "cell_type": "code",
   "execution_count": 8,
   "id": "67046cba",
   "metadata": {},
   "outputs": [],
   "source": [
    "#### NDVI & EVI Data:\n",
    "\n",
    "def get_VI_data() -> pd.DataFrame:\n",
    "    trainPath = Path(str(Path(os.getcwd()).parent.absolute()) + '/Group Project/Data/NDVI/Country_EVI_NDVI.csv')\n",
    "    df = pd.read_csv(trainPath)\n",
    "    #df = df[df['Country Name'].isin(country)]\n",
    "    df['Year'] = pd.DatetimeIndex(df['Date']).year.astype(int)\n",
    "    df = df.groupby(['Country Name', 'Year'], as_index=False).mean() # avg by year\n",
    "    return df\n",
    "\n",
    "dfTrainData = get_VI_data()\n",
    "#dfTrainData"
   ]
  },
  {
   "cell_type": "code",
   "execution_count": 10,
   "id": "9835c134",
   "metadata": {},
   "outputs": [
    {
     "data": {
      "text/plain": [
       "(770, 5)"
      ]
     },
     "execution_count": 10,
     "metadata": {},
     "output_type": "execute_result"
    }
   ],
   "source": [
    "#### Test, Train Split:\n",
    "\n",
    "predictYears = [2018] #[2019, 2020, 2021]\n",
    "\n",
    "def combine_train_test() -> pd.DataFrame:\n",
    "    df = pd.merge(dfTrainData, dfYieldLabel,  how='left', left_on=['Country Name','Year'], right_on = ['Country Name','Year'])\n",
    "    df = df[df['Country Name'].isin(country)]\n",
    "    #df = df[(df['Country Name'] == predictCountry)] # All Countries\n",
    "    return df\n",
    "\n",
    "yearly_df = combine_train_test()\n",
    "yearly_df.shape"
   ]
  },
  {
   "cell_type": "code",
   "execution_count": 12,
   "id": "2f71c75a",
   "metadata": {},
   "outputs": [],
   "source": [
    "yearly_df = yearly_df.drop(yearly_df.index[yearly_df.Year.isin([predictYears])])\n",
    "trainData = yearly_df.drop('Country Name', 1).dropna().values\n",
    "\n",
    "X, y = trainData[:, :-1], trainData[:, -1]\n",
    "#trainData\n",
    "\n",
    "predData = yearly_df[yearly_df.Year.isin(predictYears)].drop(['Country Name', 'Yield'], 1).to_numpy()\n",
    "y_test = yearly_df[yearly_df.Year.isin(predictYears)].drop(['Country Name', 'Year', 'NDVI', 'EVI'], 1).to_numpy()\n",
    "#y_test"
   ]
  },
  {
   "cell_type": "markdown",
   "id": "10402d30",
   "metadata": {},
   "source": [
    "#### Ridge Regression:"
   ]
  },
  {
   "cell_type": "code",
   "execution_count": 14,
   "id": "d8b77de5",
   "metadata": {},
   "outputs": [
    {
     "data": {
      "text/plain": [
       "(100, 3)"
      ]
     },
     "execution_count": 14,
     "metadata": {},
     "output_type": "execute_result"
    }
   ],
   "source": [
    "alphas = 10**np.linspace(10,-2,100)*0.5\n",
    "#alphas\n",
    "\n",
    "ridge = Ridge(normalize = True)\n",
    "coefs = []\n",
    "\n",
    "for a in alphas:\n",
    "    ridge.set_params(alpha = a)\n",
    "    ridge.fit(X, y)\n",
    "    coefs.append(ridge.coef_)\n",
    "    \n",
    "np.shape(coefs)"
   ]
  },
  {
   "cell_type": "code",
   "execution_count": 15,
   "id": "e586241b",
   "metadata": {},
   "outputs": [
    {
     "data": {
      "text/plain": [
       "Text(0, 0.5, 'weights')"
      ]
     },
     "execution_count": 15,
     "metadata": {},
     "output_type": "execute_result"
    },
    {
     "data": {
      "image/png": "[encoded data removed]",
      "text/plain": [
       "<Figure size 720x480 with 1 Axes>"
      ]
     },
     "metadata": {
      "needs_background": "light"
     },
     "output_type": "display_data"
    }
   ],
   "source": [
    "plt.figure(figsize=(6,4), dpi=120)\n",
    "ax = plt.gca()\n",
    "#plt.title(predictCountry)\n",
    "ax.plot(alphas, coefs)\n",
    "ax.legend(['Year', 'EVI','NVDI'])\n",
    "ax.set_xscale('log')\n",
    "plt.axis('tight')\n",
    "plt.xlabel('alpha')\n",
    "plt.ylabel('weights')"
   ]
  },
  {
   "cell_type": "code",
   "execution_count": 16,
   "id": "239c9cf4",
   "metadata": {},
   "outputs": [
    {
     "data": {
      "text/plain": [
       "266.8349615603151"
      ]
     },
     "execution_count": 16,
     "metadata": {},
     "output_type": "execute_result"
    }
   ],
   "source": [
    "#### Find optimal alpha from CV, grid search alpha grid\n",
    "ridgecv = RidgeCV(alphas = alphas, scoring = 'neg_mean_absolute_percentage_error', normalize = True)\n",
    "ridgecv.fit(X, y)\n",
    "ridgecv.alpha_"
   ]
  },
  {
   "cell_type": "code",
   "execution_count": 17,
   "id": "f01dae55",
   "metadata": {},
   "outputs": [
    {
     "data": {
      "text/plain": [
       "Ridge(alpha=266.8349615603151, normalize=True)"
      ]
     },
     "execution_count": 17,
     "metadata": {},
     "output_type": "execute_result"
    }
   ],
   "source": [
    "ridgeFinal = Ridge(alpha = ridgecv.alpha_, normalize = True)\n",
    "ridgeFinal.fit(X, y)\n",
    "\n",
    "ridgeFinal"
   ]
  },
  {
   "cell_type": "code",
   "execution_count": 22,
   "id": "dd36ab63",
   "metadata": {},
   "outputs": [
    {
     "data": {
      "text/plain": [
       "array([1.27382568, 1.27699114, 1.27675203, 1.27532127, 1.27558305,\n",
       "       1.27710946, 1.27739197, 1.2745489 , 1.2779386 , 1.27355445,\n",
       "       1.27409319, 1.27586787, 1.27699022, 1.27691171, 1.27721177,\n",
       "       1.27577213, 1.27546973, 1.27654586, 1.27621545, 1.27438859,\n",
       "       1.27376999, 1.27450132, 1.27711948, 1.27457711, 1.27392694,\n",
       "       1.27625368, 1.27708152, 1.27559084, 1.27779395, 1.27474397,\n",
       "       1.2769534 , 1.27438495, 1.27693847, 1.27690096, 1.27625583])"
      ]
     },
     "execution_count": 22,
     "metadata": {},
     "output_type": "execute_result"
    }
   ],
   "source": [
    "### make a prediction\n",
    "yhat = ridgeFinal.predict(predData)\n",
    "yhat"
   ]
  },
  {
   "cell_type": "code",
   "execution_count": 23,
   "id": "5842cde1",
   "metadata": {},
   "outputs": [
    {
     "data": {
      "text/plain": [
       "0.4532964873884774"
      ]
     },
     "execution_count": 23,
     "metadata": {},
     "output_type": "execute_result"
    }
   ],
   "source": [
    "#### MAPE:\n",
    "def mean_absolute_percentage_error(y_true, y_pred): \n",
    "    y_true, y_pred = np.array(y_true), np.array(y_pred)\n",
    "    return np.mean(np.abs((y_true - y_pred) / y_true)) #* 100\n",
    "\n",
    "mean_absolute_percentage_error(y_test, yhat)"
   ]
  },
  {
   "cell_type": "code",
   "execution_count": 34,
   "id": "4348ccc8",
   "metadata": {},
   "outputs": [
    {
     "data": {
      "text/plain": [
       "0.7022000764594396"
      ]
     },
     "execution_count": 34,
     "metadata": {},
     "output_type": "execute_result"
    }
   ],
   "source": [
    "#### RMSE:\n",
    "np.sqrt(mean_squared_error(y_test, yhat))"
   ]
  }
 ],
 "metadata": {
  "kernelspec": {
   "display_name": "Python 3",
   "language": "python",
   "name": "python3"
  },
  "language_info": {
   "codemirror_mode": {
    "name": "ipython",
    "version": 3
   },
   "file_extension": ".py",
   "mimetype": "text/x-python",
   "name": "python",
   "nbconvert_exporter": "python",
   "pygments_lexer": "ipython3",
   "version": "3.8.8"
  }
 },
 "nbformat": 4,
 "nbformat_minor": 5
}
