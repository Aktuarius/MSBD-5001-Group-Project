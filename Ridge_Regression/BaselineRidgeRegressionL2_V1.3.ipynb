{
 "cells": [
  {
   "cell_type": "code",
   "execution_count": 1,
   "id": "274e4bf7",
   "metadata": {},
   "outputs": [
    {
     "name": "stdout",
     "output_type": "stream",
     "text": [
      "C:\\Users\\USER\\Documents\\HKUST\\MSBD 5001 - Foundations of Data Analytics\\Group Project\n"
     ]
    }
   ],
   "source": [
    "import numpy as np\n",
    "import pandas as pd\n",
    "import os\n",
    "from pathlib import Path\n",
    "\n",
    "from numpy import arange\n",
    "from sklearn.model_selection import GridSearchCV\n",
    "from sklearn.model_selection import RepeatedKFold\n",
    "from sklearn.linear_model import Ridge, RidgeCV\n",
    "from sklearn.metrics import mean_squared_error\n",
    "\n",
    "import matplotlib.pyplot as plt\n",
    "from matplotlib.pyplot import figure\n",
    "\n",
    "print(os.path.abspath(\".\"))\n",
    "\n",
    "# Specify Country:\n",
    "country = ['Angola','Kenya','Ethiopia','Malawi','Namibia','Tunisia','Morocco','Rwanda','Uganda','Zambia']"
   ]
  },
  {
   "cell_type": "markdown",
   "id": "b2f147bc",
   "metadata": {},
   "source": [
    "#### Load & Preprocessing:"
   ]
  },
  {
   "cell_type": "code",
   "execution_count": 2,
   "id": "6b08d38a",
   "metadata": {},
   "outputs": [],
   "source": [
    "def get_yield_data() -> pd.DataFrame:\n",
    "    yieldPath = Path(str(Path(os.getcwd()).parent.absolute()) + '/Group Project/Data/Yields/all_country_crop_yield_tons_per_hectare.csv')\n",
    "    df = pd.read_csv(yieldPath)\n",
    "    #df = df[df['Country Name'].isin(country)]\n",
    "    df = df.melt(id_vars=[\"Country Name\"], # narrow format \n",
    "                var_name=\"Year\",   # rename\n",
    "              value_name=\"Yield\")  # rename\n",
    "    df['Year'] = df['Year'].astype(int)\n",
    "    return df\n",
    "\n",
    "dfYieldLabel = get_yield_data()\n",
    "#dfYieldLabel\n",
    "\n",
    "# Expand this to include combine function below....\n",
    "def get_VI_data() -> pd.DataFrame:\n",
    "    trainPath = Path(str(Path(os.getcwd()).parent.absolute()) + '/Group Project/Data/NDVI/Country_EVI_NDVI.csv')\n",
    "    df = pd.read_csv(trainPath)\n",
    "    #df = df[df['Country Name'].isin(country)]\n",
    "    df['Year'] = pd.DatetimeIndex(df['Date']).year.astype(int)\n",
    "    df = df.groupby(['Country Name', 'Year'], as_index=False).mean() # avg by year\n",
    "    return df\n",
    "\n",
    "dfTrainData = get_VI_data()\n",
    "#dfTrainData"
   ]
  },
  {
   "cell_type": "markdown",
   "id": "4e440be9",
   "metadata": {},
   "source": [
    "#### Test, Train split:"
   ]
  },
  {
   "cell_type": "code",
   "execution_count": 5,
   "id": "89a4e9cb",
   "metadata": {},
   "outputs": [],
   "source": [
    "predictCountry = 'Ethiopia'\n",
    "predictYears = [2019, 2020, 2021]\n",
    "\n",
    "def combine_train_test() -> pd.DataFrame:\n",
    "    df = pd.merge(dfTrainData, dfYieldLabel,  how='left', left_on=['Country Name','Year'], right_on = ['Country Name','Year'])\n",
    "    df = df[(df['Country Name'] == predictCountry)]\n",
    "    return df\n",
    "\n",
    "yearly_df = combine_train_test()\n",
    "yearly_df\n",
    "\n",
    "trainData = yearly_df.drop('Country Name', 1).dropna().values\n",
    "\n",
    "X, y = trainData[:, :-1], trainData[:, -1]\n",
    "#trainData\n",
    "\n",
    "predData = yearly_df[yearly_df.Year.isin(predictYears)].drop(['Country Name', 'Yield'], 1).to_numpy()\n",
    "#predData"
   ]
  },
  {
   "cell_type": "markdown",
   "id": "59027cee",
   "metadata": {},
   "source": [
    "#### Ridge Regression Model:"
   ]
  },
  {
   "cell_type": "code",
   "execution_count": 6,
   "id": "8fcd95f1",
   "metadata": {},
   "outputs": [],
   "source": [
    "alphas = 10**np.linspace(10,-2,100)*0.5\n",
    "#alphas\n",
    "\n",
    "ridge = Ridge(normalize = True)\n",
    "coefs = []\n",
    "\n",
    "for a in alphas:\n",
    "    ridge.set_params(alpha = a)\n",
    "    ridge.fit(X, y)\n",
    "    coefs.append(ridge.coef_)\n",
    "    \n",
    "#np.shape(coefs)"
   ]
  },
  {
   "cell_type": "code",
   "execution_count": 7,
   "id": "873c0984",
   "metadata": {},
   "outputs": [
    {
     "data": {
      "text/plain": [
       "Text(0, 0.5, 'weights')"
      ]
     },
     "execution_count": 7,
     "metadata": {},
     "output_type": "execute_result"
    },
    {
     "data": {
      "image/png": "[encoded data removed]",
      "text/plain": [
       "<Figure size 720x480 with 1 Axes>"
      ]
     },
     "metadata": {
      "needs_background": "light"
     },
     "output_type": "display_data"
    }
   ],
   "source": [
    "plt.figure(figsize=(6,4), dpi=120)\n",
    "ax = plt.gca()\n",
    "plt.title(predictCountry)\n",
    "ax.plot(alphas, coefs)\n",
    "ax.legend(['Year', 'EVI','NVDI'])\n",
    "ax.set_xscale('log')\n",
    "plt.axis('tight')\n",
    "plt.xlabel('alpha')\n",
    "plt.ylabel('weights')\n",
    "\n",
    "# expect the coefficient estimates to be much smaller, in terms of  l2  norm, \n",
    "# when a large value of alpha is used, as compared to when a small value of alpha is used."
   ]
  },
  {
   "cell_type": "code",
   "execution_count": 8,
   "id": "efed2c6c",
   "metadata": {},
   "outputs": [
    {
     "data": {
      "text/plain": [
       "0.10772173450159389"
      ]
     },
     "execution_count": 8,
     "metadata": {},
     "output_type": "execute_result"
    }
   ],
   "source": [
    "#ridgecv = RidgeCV(alphas = alphas, scoring = 'neg_mean_squared_error', normalize = True)\n",
    "ridgecv = RidgeCV(alphas = alphas, scoring = 'neg_mean_absolute_percentage_error', normalize = True)\n",
    "ridgecv.fit(X, y)\n",
    "ridgecv.alpha_"
   ]
  },
  {
   "cell_type": "code",
   "execution_count": 9,
   "id": "ef549135",
   "metadata": {},
   "outputs": [
    {
     "data": {
      "text/plain": [
       "Ridge(alpha=0.10772173450159389, normalize=True)"
      ]
     },
     "execution_count": 9,
     "metadata": {},
     "output_type": "execute_result"
    }
   ],
   "source": [
    "ridgeFinal = Ridge(alpha = ridgecv.alpha_, normalize = True)\n",
    "ridgeFinal.fit(X, y)\n",
    "#mean_squared_error(y, ridge4.predict(X))\n",
    "\n",
    "ridgeFinal"
   ]
  },
  {
   "cell_type": "code",
   "execution_count": 10,
   "id": "40b54144",
   "metadata": {},
   "outputs": [
    {
     "data": {
      "text/plain": [
       "0.06280436743690375"
      ]
     },
     "execution_count": 10,
     "metadata": {},
     "output_type": "execute_result"
    }
   ],
   "source": [
    "def mean_absolute_percentage_error(y_true, y_pred): \n",
    "    y_true, y_pred = np.array(y_true), np.array(y_pred)\n",
    "    return np.mean(np.abs((y_true - y_pred) / y_true)) #* 100\n",
    "\n",
    "mean_absolute_percentage_error(y, ridgeFinal.predict(X))"
   ]
  },
  {
   "cell_type": "code",
   "execution_count": 11,
   "id": "3eda50aa",
   "metadata": {},
   "outputs": [
    {
     "data": {
      "text/plain": [
       "0.1304708253275411"
      ]
     },
     "execution_count": 11,
     "metadata": {},
     "output_type": "execute_result"
    }
   ],
   "source": [
    "np.sqrt(mean_squared_error(y, ridgeFinal.predict(X)))"
   ]
  },
  {
   "cell_type": "code",
   "execution_count": 12,
   "id": "c72cd442",
   "metadata": {},
   "outputs": [
    {
     "data": {
      "text/plain": [
       "array([2.6361012 , 2.74837884, 2.76229482])"
      ]
     },
     "execution_count": 12,
     "metadata": {},
     "output_type": "execute_result"
    }
   ],
   "source": [
    "# make a prediction\n",
    "yhat = ridgeFinal.predict(predData)\n",
    "yhat"
   ]
  }
 ],
 "metadata": {
  "kernelspec": {
   "display_name": "Python 3",
   "language": "python",
   "name": "python3"
  },
  "language_info": {
   "codemirror_mode": {
    "name": "ipython",
    "version": 3
   },
   "file_extension": ".py",
   "mimetype": "text/x-python",
   "name": "python",
   "nbconvert_exporter": "python",
   "pygments_lexer": "ipython3",
   "version": "3.8.8"
  }
 },
 "nbformat": 4,
 "nbformat_minor": 5
}
