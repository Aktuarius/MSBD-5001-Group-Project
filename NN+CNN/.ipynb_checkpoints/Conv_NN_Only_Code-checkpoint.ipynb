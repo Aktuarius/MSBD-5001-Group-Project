{
 "cells": [
  {
   "cell_type": "code",
   "execution_count": 1,
   "id": "4be5a14f",
   "metadata": {},
   "outputs": [],
   "source": [
    "# Import required packages\\n\",\n",
    "import os\n",
    "import numpy as np\n",
    "import pandas as pd\n",
    "import torch\n",
    "from torch import nn\n",
    "import torch.nn.functional as F\n",
    "from torch.utils.data import DataLoader\n",
    "from torchvision import datasets, models, transforms\n",
    "from torchvision.transforms import ToPILImage\n",
    "from torch.nn.init import kaiming_uniform\n",
    "from torchvision.transforms import Resize, ToTensor, Compose\n",
    "import matplotlib.pyplot as plt\n",
    "import cv2"
   ]
  },
  {
   "cell_type": "code",
   "execution_count": 3,
   "id": "c19bde7b",
   "metadata": {},
   "outputs": [],
   "source": [
    "# Import the yield data as pandas data frame (Note this is saved as a csv file in base working directory)\n",
    "file_path = os.path.join(os.getcwd()) + '/data/'\n",
    "file_name = 'yield_PR.csv'\n",
    "yield_data = pd.read_csv(file_path + file_name)"
   ]
  },
  {
   "cell_type": "code",
   "execution_count": null,
   "id": "b4aa7802",
   "metadata": {},
   "outputs": [],
   "source": [
    "# yield_data[yield_data['Country Name'] == 'Kenya']['2005']"
   ]
  },
  {
   "cell_type": "code",
   "execution_count": 4,
   "id": "1e71a026",
   "metadata": {},
   "outputs": [],
   "source": [
    "class CustomImageDataset():\n",
    "    def __init__(self, hist_dir, crop_yield_table, transform=None, target_transform=None):  \n",
    "        self.hist_dir = hist_dir # References the directory for each given country where the data is stored\n",
    "        self.transform = transform\n",
    "        self.target_transform = target_transform\n",
    "        # load the files \n",
    "        filenames = [] # For every year, yields a numpy array of dimension 576 x 46\n",
    "        crop_yields = []\n",
    "        for filename in os.listdir(hist_dir):\n",
    "            if filename != 'yield.csv' and filename != 'yield_PR.csv':\n",
    "#             print(filename)\n",
    "#             print(filename[:-9])\n",
    "#             print(str(int(filename[-8:-4])))\n",
    "#             print(crop_yield_table[crop_yield_table['Country Name'] == filename[:-9]][str(int(filename[-8:-4]))].to_numpy())\n",
    "                filenames.append(filename)\n",
    "                crop_yields.append(crop_yield_table[crop_yield_table['Country Name'] == filename[:-9]][str(int(filename[-8:-4]))].to_numpy())\n",
    "#             print(crop_yields)\n",
    "        self.filenames = filenames\n",
    "        self.crop_yields = crop_yields\n",
    "        \n",
    "    def __len__(self):\n",
    "        return len(self.filenames)\n",
    "\n",
    "    def __getitem__(self, idx):\n",
    "        hist_dir = os.path.join(self.hist_dir, self.filenames[idx])\n",
    "        #hist = torch.from_numpy(np.load(hist_dir)).float()\n",
    "        hist = np.load(hist_dir)\n",
    "        # hist_3 = img2 = cv2.merge((hist,hist,hist))\n",
    "        \n",
    "        # Turn into 3 channel array (triplicate of single layer) --> to function with known model architectures\n",
    "        hist_3 = np.zeros( ( np.array(hist).shape[0], np.array(hist).shape[1], 3 ) )\n",
    "        hist_3[:,:,0] = hist # same value in each channel\n",
    "        hist_3[:,:,1] = hist\n",
    "        hist_3[:,:,2] = hist\n",
    "        \n",
    "        if self.transform:\n",
    "            hist = self.transform(hist_3).float()\n",
    "        crop_yield = torch.from_numpy(self.crop_yields[idx].reshape(-1, 1)).float()\n",
    "        return hist, crop_yield"
   ]
  },
  {
   "cell_type": "code",
   "execution_count": 5,
   "id": "e04aab72",
   "metadata": {},
   "outputs": [],
   "source": [
    "crop_dataset = CustomImageDataset('./data/', crop_yield_table = yield_data, transform = Compose([ToTensor(), Resize((224,224))]))"
   ]
  },
  {
   "cell_type": "code",
   "execution_count": 6,
   "id": "0193b679",
   "metadata": {},
   "outputs": [
    {
     "data": {
      "text/plain": [
       "(tensor([[[4.2608e-02, 4.2608e-02, 4.2533e-02,  ..., 4.6571e-02,\n",
       "           4.6918e-02, 4.6918e-02],\n",
       "          [2.7705e-01, 2.7705e-01, 2.7678e-01,  ..., 2.3345e-01,\n",
       "           2.3342e-01, 2.3342e-01],\n",
       "          [3.8722e-02, 3.8722e-02, 3.9051e-02,  ..., 7.1192e-02,\n",
       "           7.0520e-02, 7.0520e-02],\n",
       "          ...,\n",
       "          [3.9607e-01, 3.9607e-01, 3.9655e-01,  ..., 6.7015e-01,\n",
       "           6.7240e-01, 6.7240e-01],\n",
       "          [5.6489e-04, 5.6489e-04, 5.9094e-04,  ..., 2.6951e-03,\n",
       "           2.7263e-03, 2.7263e-03],\n",
       "          [0.0000e+00, 0.0000e+00, 0.0000e+00,  ..., 0.0000e+00,\n",
       "           0.0000e+00, 0.0000e+00]],\n",
       " \n",
       "         [[4.2608e-02, 4.2608e-02, 4.2533e-02,  ..., 4.6571e-02,\n",
       "           4.6918e-02, 4.6918e-02],\n",
       "          [2.7705e-01, 2.7705e-01, 2.7678e-01,  ..., 2.3345e-01,\n",
       "           2.3342e-01, 2.3342e-01],\n",
       "          [3.8722e-02, 3.8722e-02, 3.9051e-02,  ..., 7.1192e-02,\n",
       "           7.0520e-02, 7.0520e-02],\n",
       "          ...,\n",
       "          [3.9607e-01, 3.9607e-01, 3.9655e-01,  ..., 6.7015e-01,\n",
       "           6.7240e-01, 6.7240e-01],\n",
       "          [5.6489e-04, 5.6489e-04, 5.9094e-04,  ..., 2.6951e-03,\n",
       "           2.7263e-03, 2.7263e-03],\n",
       "          [0.0000e+00, 0.0000e+00, 0.0000e+00,  ..., 0.0000e+00,\n",
       "           0.0000e+00, 0.0000e+00]],\n",
       " \n",
       "         [[4.2608e-02, 4.2608e-02, 4.2533e-02,  ..., 4.6571e-02,\n",
       "           4.6918e-02, 4.6918e-02],\n",
       "          [2.7705e-01, 2.7705e-01, 2.7678e-01,  ..., 2.3345e-01,\n",
       "           2.3342e-01, 2.3342e-01],\n",
       "          [3.8722e-02, 3.8722e-02, 3.9051e-02,  ..., 7.1192e-02,\n",
       "           7.0520e-02, 7.0520e-02],\n",
       "          ...,\n",
       "          [3.9607e-01, 3.9607e-01, 3.9655e-01,  ..., 6.7015e-01,\n",
       "           6.7240e-01, 6.7240e-01],\n",
       "          [5.6489e-04, 5.6489e-04, 5.9094e-04,  ..., 2.6951e-03,\n",
       "           2.7263e-03, 2.7263e-03],\n",
       "          [0.0000e+00, 0.0000e+00, 0.0000e+00,  ..., 0.0000e+00,\n",
       "           0.0000e+00, 0.0000e+00]]]),\n",
       " tensor([[1500.8000]]))"
      ]
     },
     "execution_count": 6,
     "metadata": {},
     "output_type": "execute_result"
    }
   ],
   "source": [
    "crop_dataset[3] # Shows for a given tensor which consists of a pair of 1) array of binned histogram data; and 2) yield output"
   ]
  },
  {
   "cell_type": "code",
   "execution_count": 7,
   "id": "1b9d13ab",
   "metadata": {},
   "outputs": [
    {
     "data": {
      "text/plain": [
       "torch.Size([3, 224, 224])"
      ]
     },
     "execution_count": 7,
     "metadata": {},
     "output_type": "execute_result"
    }
   ],
   "source": [
    "crop_dataset[3][0].shape # For each binned histogram data, consists of 576 observations across 29 dimensions"
   ]
  },
  {
   "cell_type": "code",
   "execution_count": 13,
   "id": "cbdbc792",
   "metadata": {
    "scrolled": true
   },
   "outputs": [
    {
     "name": "stdout",
     "output_type": "stream",
     "text": [
      "type of the image:  <class 'torch.Tensor'>\n",
      "Yield: tensor([[1058.6000]])\n"
     ]
    },
    {
     "data": {
      "image/png": "[encoded data removed]",
      "text/plain": [
       "<Figure size 1332x756 with 1 Axes>"
      ]
     },
     "metadata": {
      "needs_background": "light"
     },
     "output_type": "display_data"
    }
   ],
   "source": [
    "# Plot data for one sample pair\n",
    "raw_image, crop_yield = crop_dataset[0]\n",
    "figure = plt.figure()\n",
    "figure.set_size_inches(18.5, 10.5)\n",
    "\n",
    "print(\"type of the image: \", type(raw_image))\n",
    "\n",
    "if type(raw_image) == torch.Tensor:\n",
    "    plt.imshow(ToPILImage()(raw_image))\n",
    "else:\n",
    "    plt.imshow(raw_image)\n",
    "    \n",
    "print(f\"Yield: {crop_yield}\")"
   ]
  },
  {
   "cell_type": "code",
   "execution_count": 14,
   "id": "62372429",
   "metadata": {},
   "outputs": [],
   "source": [
    "dataloader = DataLoader(crop_dataset, batch_size=1, shuffle=False)"
   ]
  },
  {
   "cell_type": "code",
   "execution_count": 17,
   "id": "024bca1b",
   "metadata": {},
   "outputs": [],
   "source": [
    "# for feature, label in dataloader:\n",
    "#     print(f\"Feature batch shape: {feature.size()}\")\n",
    "#     print(label)\n",
    "#     print(f\"Feature data type: {feature.dtype}\")\n",
    "#     print(f\"Label data type: {label.dtype}\")"
   ]
  },
  {
   "cell_type": "code",
   "execution_count": 18,
   "id": "465e18c4",
   "metadata": {},
   "outputs": [
    {
     "name": "stdout",
     "output_type": "stream",
     "text": [
      "Using cuda device\n"
     ]
    }
   ],
   "source": [
    "# Check device used\n",
    "device = \"cuda\" if torch.cuda.is_available() else \"cpu\"\n",
    "print(f\"Using {device} device\")"
   ]
  },
  {
   "cell_type": "code",
   "execution_count": null,
   "id": "a6e24631",
   "metadata": {},
   "outputs": [],
   "source": [
    "# # Basic Neural Network as outlined in lecture notes\n",
    "# class NeuralNetwork(nn.Module):\n",
    "#     def __init__(self):\n",
    "#         super(NeuralNetwork, self).__init__()\n",
    "#         self.flatten = nn.Flatten()\n",
    "#         #self.linear1 = nn.Linear(28*28, 512)\n",
    "#         #self.linear2 = nn.Linear(512, 512)\n",
    "#         #self.linear3 = nn.Linear(512, 10)\n",
    "#         #self.relu = nn.ReLU()\n",
    "        \n",
    "#         self.linear_relu_stack = nn.Sequential(\n",
    "#             nn.Linear(28*28, 512),\n",
    "#             nn.ReLU(),\n",
    "#             nn.Linear(512, 512),\n",
    "#             nn.ReLU(),\n",
    "#             nn.Linear(512, 1),\n",
    "#         )\n",
    "\n",
    "#     def forward(self, x):\n",
    "#         x = self.flatten(x)\n",
    "#         #x = self.linear1(x)\n",
    "#         #x = self.relu(x)\n",
    "#         #x = self.linear2(x)\n",
    "#         #x = self.relu(x)\n",
    "#         #logits = self.linear3(x)\n",
    "#         logits = self.linear_relu_stack(x)\n",
    "#         return logits"
   ]
  },
  {
   "cell_type": "code",
   "execution_count": 21,
   "id": "22a263ea",
   "metadata": {},
   "outputs": [],
   "source": [
    "# Based on https://towardsdev.com/implement-resnet-with-pytorch-a9fb40a77448\n",
    "\n",
    "class ResBlock(nn.Module):\n",
    "    def __init__(self, in_channels, out_channels, downsample):\n",
    "        super().__init__()\n",
    "        if downsample:\n",
    "            self.conv1 = nn.Conv2d(in_channels, out_channels, kernel_size=3, stride=2, padding=1)\n",
    "            self.shortcut = nn.Sequential(\n",
    "                nn.Conv2d(in_channels, out_channels, kernel_size=1, stride=2),\n",
    "                nn.BatchNorm2d(out_channels)\n",
    "            )\n",
    "        else:\n",
    "            self.conv1 = nn.Conv2d(in_channels, out_channels, kernel_size=3, stride=1, padding=1)\n",
    "            self.shortcut = nn.Sequential()\n",
    "\n",
    "        self.conv2 = nn.Conv2d(out_channels, out_channels, kernel_size=3, stride=1, padding=1)\n",
    "        self.bn1 = nn.BatchNorm2d(out_channels)\n",
    "        self.bn2 = nn.BatchNorm2d(out_channels)\n",
    "\n",
    "    def forward(self, input):\n",
    "        shortcut = self.shortcut(input)\n",
    "        input = nn.ReLU()(self.bn1(self.conv1(input)))\n",
    "        input = nn.ReLU()(self.bn2(self.conv2(input)))\n",
    "        input = input + shortcut\n",
    "        return nn.ReLU()(input)"
   ]
  },
  {
   "cell_type": "code",
   "execution_count": 22,
   "id": "bdd8e83c",
   "metadata": {},
   "outputs": [],
   "source": [
    "# Based on https://towardsdev.com/implement-resnet-with-pytorch-a9fb40a77448\n",
    "\n",
    "class ResNet18(nn.Module):\n",
    "    def __init__(self, in_channels, resblock, outputs=1):\n",
    "        super().__init__()\n",
    "        self.layer0 = nn.Sequential(\n",
    "            nn.Conv2d(in_channels, 64, kernel_size=7, stride=2, padding=3),\n",
    "            nn.MaxPool2d(kernel_size=3, stride=2, padding=1),\n",
    "            nn.BatchNorm2d(64),\n",
    "            nn.ReLU()\n",
    "        )\n",
    "\n",
    "        self.layer1 = nn.Sequential(\n",
    "            resblock(64, 64, downsample=False),\n",
    "            resblock(64, 64, downsample=False)\n",
    "        )\n",
    "\n",
    "        self.layer2 = nn.Sequential(\n",
    "            resblock(64, 128, downsample=True),\n",
    "            resblock(128, 128, downsample=False)\n",
    "        )\n",
    "\n",
    "        self.layer3 = nn.Sequential(\n",
    "            resblock(128, 256, downsample=True),\n",
    "            resblock(256, 256, downsample=False)\n",
    "        )\n",
    "\n",
    "\n",
    "        self.layer4 = nn.Sequential(\n",
    "            resblock(256, 512, downsample=True),\n",
    "            resblock(512, 512, downsample=False)\n",
    "        )\n",
    "\n",
    "        self.gap = torch.nn.AdaptiveAvgPool2d(1)\n",
    "        self.fc = torch.nn.Linear(512, outputs)\n",
    "\n",
    "    def forward(self, input):\n",
    "        input = self.layer0(input)\n",
    "        input = self.layer1(input)\n",
    "        input = self.layer2(input)\n",
    "        input = self.layer3(input)\n",
    "        input = self.layer4(input)\n",
    "        input = self.gap(input)\n",
    "        input = torch.flatten(input)\n",
    "        input = self.fc(input)\n",
    "\n",
    "        return input"
   ]
  },
  {
   "cell_type": "code",
   "execution_count": 24,
   "id": "ef9fa88d",
   "metadata": {},
   "outputs": [
    {
     "name": "stdout",
     "output_type": "stream",
     "text": [
      "ResNet18(\n",
      "  (layer0): Sequential(\n",
      "    (0): Conv2d(3, 64, kernel_size=(7, 7), stride=(2, 2), padding=(3, 3))\n",
      "    (1): MaxPool2d(kernel_size=3, stride=2, padding=1, dilation=1, ceil_mode=False)\n",
      "    (2): BatchNorm2d(64, eps=1e-05, momentum=0.1, affine=True, track_running_stats=True)\n",
      "    (3): ReLU()\n",
      "  )\n",
      "  (layer1): Sequential(\n",
      "    (0): ResBlock(\n",
      "      (conv1): Conv2d(64, 64, kernel_size=(3, 3), stride=(1, 1), padding=(1, 1))\n",
      "      (shortcut): Sequential()\n",
      "      (conv2): Conv2d(64, 64, kernel_size=(3, 3), stride=(1, 1), padding=(1, 1))\n",
      "      (bn1): BatchNorm2d(64, eps=1e-05, momentum=0.1, affine=True, track_running_stats=True)\n",
      "      (bn2): BatchNorm2d(64, eps=1e-05, momentum=0.1, affine=True, track_running_stats=True)\n",
      "    )\n",
      "    (1): ResBlock(\n",
      "      (conv1): Conv2d(64, 64, kernel_size=(3, 3), stride=(1, 1), padding=(1, 1))\n",
      "      (shortcut): Sequential()\n",
      "      (conv2): Conv2d(64, 64, kernel_size=(3, 3), stride=(1, 1), padding=(1, 1))\n",
      "      (bn1): BatchNorm2d(64, eps=1e-05, momentum=0.1, affine=True, track_running_stats=True)\n",
      "      (bn2): BatchNorm2d(64, eps=1e-05, momentum=0.1, affine=True, track_running_stats=True)\n",
      "    )\n",
      "  )\n",
      "  (layer2): Sequential(\n",
      "    (0): ResBlock(\n",
      "      (conv1): Conv2d(64, 128, kernel_size=(3, 3), stride=(2, 2), padding=(1, 1))\n",
      "      (shortcut): Sequential(\n",
      "        (0): Conv2d(64, 128, kernel_size=(1, 1), stride=(2, 2))\n",
      "        (1): BatchNorm2d(128, eps=1e-05, momentum=0.1, affine=True, track_running_stats=True)\n",
      "      )\n",
      "      (conv2): Conv2d(128, 128, kernel_size=(3, 3), stride=(1, 1), padding=(1, 1))\n",
      "      (bn1): BatchNorm2d(128, eps=1e-05, momentum=0.1, affine=True, track_running_stats=True)\n",
      "      (bn2): BatchNorm2d(128, eps=1e-05, momentum=0.1, affine=True, track_running_stats=True)\n",
      "    )\n",
      "    (1): ResBlock(\n",
      "      (conv1): Conv2d(128, 128, kernel_size=(3, 3), stride=(1, 1), padding=(1, 1))\n",
      "      (shortcut): Sequential()\n",
      "      (conv2): Conv2d(128, 128, kernel_size=(3, 3), stride=(1, 1), padding=(1, 1))\n",
      "      (bn1): BatchNorm2d(128, eps=1e-05, momentum=0.1, affine=True, track_running_stats=True)\n",
      "      (bn2): BatchNorm2d(128, eps=1e-05, momentum=0.1, affine=True, track_running_stats=True)\n",
      "    )\n",
      "  )\n",
      "  (layer3): Sequential(\n",
      "    (0): ResBlock(\n",
      "      (conv1): Conv2d(128, 256, kernel_size=(3, 3), stride=(2, 2), padding=(1, 1))\n",
      "      (shortcut): Sequential(\n",
      "        (0): Conv2d(128, 256, kernel_size=(1, 1), stride=(2, 2))\n",
      "        (1): BatchNorm2d(256, eps=1e-05, momentum=0.1, affine=True, track_running_stats=True)\n",
      "      )\n",
      "      (conv2): Conv2d(256, 256, kernel_size=(3, 3), stride=(1, 1), padding=(1, 1))\n",
      "      (bn1): BatchNorm2d(256, eps=1e-05, momentum=0.1, affine=True, track_running_stats=True)\n",
      "      (bn2): BatchNorm2d(256, eps=1e-05, momentum=0.1, affine=True, track_running_stats=True)\n",
      "    )\n",
      "    (1): ResBlock(\n",
      "      (conv1): Conv2d(256, 256, kernel_size=(3, 3), stride=(1, 1), padding=(1, 1))\n",
      "      (shortcut): Sequential()\n",
      "      (conv2): Conv2d(256, 256, kernel_size=(3, 3), stride=(1, 1), padding=(1, 1))\n",
      "      (bn1): BatchNorm2d(256, eps=1e-05, momentum=0.1, affine=True, track_running_stats=True)\n",
      "      (bn2): BatchNorm2d(256, eps=1e-05, momentum=0.1, affine=True, track_running_stats=True)\n",
      "    )\n",
      "  )\n",
      "  (layer4): Sequential(\n",
      "    (0): ResBlock(\n",
      "      (conv1): Conv2d(256, 512, kernel_size=(3, 3), stride=(2, 2), padding=(1, 1))\n",
      "      (shortcut): Sequential(\n",
      "        (0): Conv2d(256, 512, kernel_size=(1, 1), stride=(2, 2))\n",
      "        (1): BatchNorm2d(512, eps=1e-05, momentum=0.1, affine=True, track_running_stats=True)\n",
      "      )\n",
      "      (conv2): Conv2d(512, 512, kernel_size=(3, 3), stride=(1, 1), padding=(1, 1))\n",
      "      (bn1): BatchNorm2d(512, eps=1e-05, momentum=0.1, affine=True, track_running_stats=True)\n",
      "      (bn2): BatchNorm2d(512, eps=1e-05, momentum=0.1, affine=True, track_running_stats=True)\n",
      "    )\n",
      "    (1): ResBlock(\n",
      "      (conv1): Conv2d(512, 512, kernel_size=(3, 3), stride=(1, 1), padding=(1, 1))\n",
      "      (shortcut): Sequential()\n",
      "      (conv2): Conv2d(512, 512, kernel_size=(3, 3), stride=(1, 1), padding=(1, 1))\n",
      "      (bn1): BatchNorm2d(512, eps=1e-05, momentum=0.1, affine=True, track_running_stats=True)\n",
      "      (bn2): BatchNorm2d(512, eps=1e-05, momentum=0.1, affine=True, track_running_stats=True)\n",
      "    )\n",
      "  )\n",
      "  (gap): AdaptiveAvgPool2d(output_size=1)\n",
      "  (fc): Linear(in_features=512, out_features=1, bias=True)\n",
      ")\n"
     ]
    }
   ],
   "source": [
    "# Potentially use pre-trained model\n",
    "# resnet_model = models.resnet18(pretrained=True).to(device) \n",
    "\n",
    "# Don't use pre-trained\n",
    "model = ResNet18(in_channels = 3, resblock = ResBlock).to(device)\n",
    "\n",
    "trainloader = dataloader # train_dataloader_resnet\n",
    "loss_fn = torch.nn.MSELoss()\n",
    "optimizer = torch.optim.RMSprop(model.parameters(), lr=1e-4)\n",
    "print(model)\n",
    "\n",
    "# print(model(crop_dataset[3].to(device)))\n",
    "# optimizer = torch.optim.Adam"
   ]
  },
  {
   "cell_type": "code",
   "execution_count": 29,
   "id": "a0a2614b",
   "metadata": {},
   "outputs": [],
   "source": [
    "# Train model\n",
    "def train(dataloader, model, loss_fn, optimizer):\n",
    "    size = len(dataloader.dataset)\n",
    "    num_batches = len(dataloader)\n",
    "    model.train()\n",
    "    correct, train_loss = 0, 0 \n",
    "    for batch, (X, y) in enumerate(dataloader):\n",
    "        X, y = X.to(device), y.to(device)\n",
    "\n",
    "        # Compute prediction error\n",
    "        pred = model(X)\n",
    "        loss = loss_fn(pred, y)\n",
    "        train_loss += loss.item()\n",
    "#         print(f\"Actual {y}\")\n",
    "#         print(f\"Predicted {pred}\")\n",
    "\n",
    "        # Backpropagation\n",
    "        optimizer.zero_grad()  \n",
    "        loss.backward()\n",
    "        optimizer.step() \n",
    "    train_loss /= num_batches\n",
    "    return train_loss "
   ]
  },
  {
   "cell_type": "code",
   "execution_count": 32,
   "id": "d066701e",
   "metadata": {},
   "outputs": [
    {
     "name": "stdout",
     "output_type": "stream",
     "text": [
      "Epoch 0:\n",
      "Avg loss: 2188052.875183\n",
      "Epoch 1:\n",
      "Avg loss: 2146575.062095\n",
      "Epoch 2:\n",
      "Avg loss: 2104450.420536\n",
      "Epoch 3:\n",
      "Avg loss: 2063773.906676\n",
      "Epoch 4:\n",
      "Avg loss: 2028997.679208\n",
      "Epoch 5:\n",
      "Avg loss: 1983375.342613\n",
      "Epoch 6:\n",
      "Avg loss: 1942225.770679\n",
      "Epoch 7:\n",
      "Avg loss: 1929491.306917\n",
      "Epoch 8:\n",
      "Avg loss: 1880209.274983\n",
      "Epoch 9:\n",
      "Avg loss: 1866380.420971\n",
      "Done!\n"
     ]
    }
   ],
   "source": [
    "epochs = 10\n",
    "train_loss_history = []\n",
    "\n",
    "for t in range(epochs):\n",
    "    train_loss = train(trainloader, model, loss_fn, optimizer)\n",
    "    train_loss_history.append(train_loss)\n",
    "    # test_loss, test_acc = test(testloader, model, loss_fn)\n",
    "    if t%1 == 0:\n",
    "        print(f\"Epoch {t}:\")\n",
    "        print(f\"Avg loss: {train_loss:>8f}\")\n",
    "print(\"Done!\")"
   ]
  },
  {
   "cell_type": "code",
   "execution_count": 33,
   "id": "c0779b0c",
   "metadata": {},
   "outputs": [
    {
     "name": "stdout",
     "output_type": "stream",
     "text": [
      "[2188052.8751826426, 2146575.062094555, 2104450.4205355803, 2063773.9066757648, 2028997.6792083324, 1983375.3426132668, 1942225.7706786054, 1929491.3069171468, 1880209.2749825572, 1866380.4209711577]\n"
     ]
    }
   ],
   "source": [
    "print(train_loss_history)"
   ]
  },
  {
   "cell_type": "code",
   "execution_count": null,
   "id": "852f2296",
   "metadata": {},
   "outputs": [],
   "source": []
  }
 ],
 "metadata": {
  "kernelspec": {
   "display_name": "pytorch",
   "language": "python",
   "name": "pytorch"
  },
  "language_info": {
   "codemirror_mode": {
    "name": "ipython",
    "version": 3
   },
   "file_extension": ".py",
   "mimetype": "text/x-python",
   "name": "python",
   "nbconvert_exporter": "python",
   "pygments_lexer": "ipython3",
   "version": "3.9.12"
  }
 },
 "nbformat": 4,
 "nbformat_minor": 5
}
