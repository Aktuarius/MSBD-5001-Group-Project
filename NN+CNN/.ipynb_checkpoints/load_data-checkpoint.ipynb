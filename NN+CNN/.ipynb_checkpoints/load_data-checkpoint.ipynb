{
 "cells": [
  {
   "cell_type": "code",
   "execution_count": 2,
   "id": "d12ce4e8",
   "metadata": {},
   "outputs": [],
   "source": [
    "# Load numpy arrays\n",
    "import numpy as np\n",
    "import pandas as pd\n",
    "\n",
    "# Load related pytorch packages\n",
    "import os\n",
    "import torch\n",
    "from torch import nn\n",
    "from torch.utils.data import DataLoader\n",
    "from torchvision import datasets, transforms"
   ]
  },
  {
   "cell_type": "code",
   "execution_count": 15,
   "id": "db9a0312",
   "metadata": {},
   "outputs": [],
   "source": [
    "# Import the data \n",
    "file_path = os.path.join(os.getcwd(), 'kenya')\n",
    "files = os.listdir(file_path)\n",
    "\n",
    "# Loading for a single instance\n",
    "data = np.load(os.path.join(file_path, files[0]))"
   ]
  },
  {
   "cell_type": "code",
   "execution_count": 18,
   "id": "fb348c2c",
   "metadata": {},
   "outputs": [
    {
     "data": {
      "text/plain": [
       "(64, 29, 9)"
      ]
     },
     "execution_count": 18,
     "metadata": {},
     "output_type": "execute_result"
    }
   ],
   "source": [
    "data.shape"
   ]
  },
  {
   "cell_type": "code",
   "execution_count": null,
   "id": "3b15e408",
   "metadata": {},
   "outputs": [],
   "source": []
  }
 ],
 "metadata": {
  "kernelspec": {
   "display_name": "pytorch",
   "language": "python",
   "name": "pytorch"
  },
  "language_info": {
   "codemirror_mode": {
    "name": "ipython",
    "version": 3
   },
   "file_extension": ".py",
   "mimetype": "text/x-python",
   "name": "python",
   "nbconvert_exporter": "python",
   "pygments_lexer": "ipython3",
   "version": "3.9.7"
  }
 },
 "nbformat": 4,
 "nbformat_minor": 5
}
