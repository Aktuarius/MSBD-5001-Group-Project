{
 "cells": [
  {
   "cell_type": "code",
   "execution_count": 62,
   "id": "4be5a14f",
   "metadata": {},
   "outputs": [],
   "source": [
    "# Import required packages\\n\",\n",
    "import os\n",
    "import numpy as np\n",
    "import pandas as pd\n",
    "import math\n",
    "import torch\n",
    "from torch import nn\n",
    "import torch.nn.functional as F\n",
    "from torch.utils.data import DataLoader\n",
    "from torchvision import datasets, models, transforms\n",
    "from torchvision.transforms import ToPILImage\n",
    "from torch.nn.init import kaiming_uniform\n",
    "from torchvision.transforms import Resize, ToTensor, Compose\n",
    "import matplotlib.pyplot as plt\n",
    "import cv2"
   ]
  },
  {
   "cell_type": "code",
   "execution_count": 2,
   "id": "c19bde7b",
   "metadata": {},
   "outputs": [],
   "source": [
    "# Import the yield data as pandas data frame (Note this is saved as a csv file in base working directory)\n",
    "file_path = os.path.join(os.getcwd()) + '/data/'\n",
    "file_name = 'yield_PR.csv'\n",
    "yield_data = pd.read_csv(file_path + file_name)"
   ]
  },
  {
   "cell_type": "code",
   "execution_count": 3,
   "id": "b4aa7802",
   "metadata": {},
   "outputs": [],
   "source": [
    "# yield_data[yield_data['Country Name'] == 'Kenya']['2005']"
   ]
  },
  {
   "cell_type": "code",
   "execution_count": 4,
   "id": "1e71a026",
   "metadata": {},
   "outputs": [],
   "source": [
    "class CustomImageDataset():\n",
    "    def __init__(self, hist_dir, crop_yield_table, transform=None, target_transform=None):  \n",
    "        self.hist_dir = hist_dir # References the directory for each given country where the data is stored\n",
    "        self.transform = transform\n",
    "        self.target_transform = target_transform\n",
    "        # load the files \n",
    "        filenames = [] # For every year, yields a numpy array of dimension 576 x 46\n",
    "        crop_yields = []\n",
    "        for filename in os.listdir(hist_dir):\n",
    "            if filename != 'yield.csv' and filename != 'yield_PR.csv':\n",
    "#             print(filename)\n",
    "#             print(filename[:-9])\n",
    "#             print(str(int(filename[-8:-4])))\n",
    "#             print(crop_yield_table[crop_yield_table['Country Name'] == filename[:-9]][str(int(filename[-8:-4]))].to_numpy())\n",
    "                filenames.append(filename)\n",
    "                crop_yields.append(crop_yield_table[crop_yield_table['Country Name'] == filename[:-9]][str(int(filename[-8:-4]))].to_numpy())\n",
    "#             print(crop_yields)\n",
    "        self.filenames = filenames\n",
    "        self.crop_yields = crop_yields\n",
    "        \n",
    "    def __len__(self):\n",
    "        return len(self.filenames)\n",
    "\n",
    "    def __getitem__(self, idx):\n",
    "        hist_dir = os.path.join(self.hist_dir, self.filenames[idx])\n",
    "        #hist = torch.from_numpy(np.load(hist_dir)).float()\n",
    "        hist = np.load(hist_dir)\n",
    "        # hist_3 = img2 = cv2.merge((hist,hist,hist))\n",
    "        \n",
    "        # Turn into 3 channel array (triplicate of single layer) --> to function with known model architectures\n",
    "        hist_3 = np.zeros( ( np.array(hist).shape[0], np.array(hist).shape[1], 3 ) )\n",
    "        hist_3[:,:,0] = hist # same value in each channel\n",
    "        hist_3[:,:,1] = hist\n",
    "        hist_3[:,:,2] = hist\n",
    "        \n",
    "        if self.transform:\n",
    "            hist = self.transform(hist_3).float()\n",
    "        crop_yield = torch.from_numpy(self.crop_yields[idx].reshape(-1, 1)).float()\n",
    "        return hist, crop_yield"
   ]
  },
  {
   "cell_type": "code",
   "execution_count": 5,
   "id": "e04aab72",
   "metadata": {},
   "outputs": [],
   "source": [
    "# Create_Training_Dataset\n",
    "crop_dataset_train = CustomImageDataset('./train_data/', crop_yield_table = yield_data, transform = Compose([ToTensor(), Resize((224,224))]))\n",
    "\n",
    "# Create_Training_Dataset\n",
    "crop_dataset_test = CustomImageDataset('./test_data/', crop_yield_table = yield_data, transform = Compose([ToTensor(), Resize((224,224))]))\n"
   ]
  },
  {
   "cell_type": "code",
   "execution_count": 6,
   "id": "0193b679",
   "metadata": {},
   "outputs": [
    {
     "data": {
      "text/plain": [
       "(tensor([[[4.2608e-02, 4.2608e-02, 4.2533e-02,  ..., 4.6571e-02,\n",
       "           4.6918e-02, 4.6918e-02],\n",
       "          [2.7705e-01, 2.7705e-01, 2.7678e-01,  ..., 2.3345e-01,\n",
       "           2.3342e-01, 2.3342e-01],\n",
       "          [3.8722e-02, 3.8722e-02, 3.9051e-02,  ..., 7.1192e-02,\n",
       "           7.0520e-02, 7.0520e-02],\n",
       "          ...,\n",
       "          [3.9607e-01, 3.9607e-01, 3.9655e-01,  ..., 6.7015e-01,\n",
       "           6.7240e-01, 6.7240e-01],\n",
       "          [5.6489e-04, 5.6489e-04, 5.9094e-04,  ..., 2.6951e-03,\n",
       "           2.7263e-03, 2.7263e-03],\n",
       "          [0.0000e+00, 0.0000e+00, 0.0000e+00,  ..., 0.0000e+00,\n",
       "           0.0000e+00, 0.0000e+00]],\n",
       " \n",
       "         [[4.2608e-02, 4.2608e-02, 4.2533e-02,  ..., 4.6571e-02,\n",
       "           4.6918e-02, 4.6918e-02],\n",
       "          [2.7705e-01, 2.7705e-01, 2.7678e-01,  ..., 2.3345e-01,\n",
       "           2.3342e-01, 2.3342e-01],\n",
       "          [3.8722e-02, 3.8722e-02, 3.9051e-02,  ..., 7.1192e-02,\n",
       "           7.0520e-02, 7.0520e-02],\n",
       "          ...,\n",
       "          [3.9607e-01, 3.9607e-01, 3.9655e-01,  ..., 6.7015e-01,\n",
       "           6.7240e-01, 6.7240e-01],\n",
       "          [5.6489e-04, 5.6489e-04, 5.9094e-04,  ..., 2.6951e-03,\n",
       "           2.7263e-03, 2.7263e-03],\n",
       "          [0.0000e+00, 0.0000e+00, 0.0000e+00,  ..., 0.0000e+00,\n",
       "           0.0000e+00, 0.0000e+00]],\n",
       " \n",
       "         [[4.2608e-02, 4.2608e-02, 4.2533e-02,  ..., 4.6571e-02,\n",
       "           4.6918e-02, 4.6918e-02],\n",
       "          [2.7705e-01, 2.7705e-01, 2.7678e-01,  ..., 2.3345e-01,\n",
       "           2.3342e-01, 2.3342e-01],\n",
       "          [3.8722e-02, 3.8722e-02, 3.9051e-02,  ..., 7.1192e-02,\n",
       "           7.0520e-02, 7.0520e-02],\n",
       "          ...,\n",
       "          [3.9607e-01, 3.9607e-01, 3.9655e-01,  ..., 6.7015e-01,\n",
       "           6.7240e-01, 6.7240e-01],\n",
       "          [5.6489e-04, 5.6489e-04, 5.9094e-04,  ..., 2.6951e-03,\n",
       "           2.7263e-03, 2.7263e-03],\n",
       "          [0.0000e+00, 0.0000e+00, 0.0000e+00,  ..., 0.0000e+00,\n",
       "           0.0000e+00, 0.0000e+00]]]),\n",
       " tensor([[1500.8000]]))"
      ]
     },
     "execution_count": 6,
     "metadata": {},
     "output_type": "execute_result"
    }
   ],
   "source": [
    "crop_dataset_train[3] # Shows for a given tensor which consists of a pair of 1) array of binned histogram data; and 2) yield output"
   ]
  },
  {
   "cell_type": "code",
   "execution_count": 7,
   "id": "1b9d13ab",
   "metadata": {},
   "outputs": [
    {
     "data": {
      "text/plain": [
       "torch.Size([3, 224, 224])"
      ]
     },
     "execution_count": 7,
     "metadata": {},
     "output_type": "execute_result"
    }
   ],
   "source": [
    "crop_dataset_train[3][0].shape # For each binned histogram data, consists of 576 observations across 29 dimensions"
   ]
  },
  {
   "cell_type": "code",
   "execution_count": 8,
   "id": "cbdbc792",
   "metadata": {
    "scrolled": true
   },
   "outputs": [
    {
     "name": "stdout",
     "output_type": "stream",
     "text": [
      "type of the image:  <class 'torch.Tensor'>\n",
      "Yield: tensor([[1058.6000]])\n"
     ]
    },
    {
     "data": {
      "image/png": "[encoded data removed]",
      "text/plain": [
       "<Figure size 1332x756 with 1 Axes>"
      ]
     },
     "metadata": {
      "needs_background": "light"
     },
     "output_type": "display_data"
    }
   ],
   "source": [
    "# Plot data for one sample pair\n",
    "raw_image, crop_yield = crop_dataset_train[0]\n",
    "figure = plt.figure()\n",
    "figure.set_size_inches(18.5, 10.5)\n",
    "\n",
    "print(\"type of the image: \", type(raw_image))\n",
    "\n",
    "if type(raw_image) == torch.Tensor:\n",
    "    plt.imshow(ToPILImage()(raw_image))\n",
    "else:\n",
    "    plt.imshow(raw_image)\n",
    "    \n",
    "print(f\"Yield: {crop_yield}\")"
   ]
  },
  {
   "cell_type": "code",
   "execution_count": 9,
   "id": "62372429",
   "metadata": {},
   "outputs": [],
   "source": [
    "# Initialize data loaders\n",
    "train_dataloader = DataLoader(crop_dataset_train, batch_size=1, shuffle=False)\n",
    "test_dataloader = DataLoader(crop_dataset_test, batch_size=1, shuffle=False)"
   ]
  },
  {
   "cell_type": "code",
   "execution_count": 10,
   "id": "024bca1b",
   "metadata": {},
   "outputs": [],
   "source": [
    "# for feature, label in dataloader:\n",
    "#     print(f\"Feature batch shape: {feature.size()}\")\n",
    "#     print(label)\n",
    "#     print(f\"Feature data type: {feature.dtype}\")\n",
    "#     print(f\"Label data type: {label.dtype}\")"
   ]
  },
  {
   "cell_type": "code",
   "execution_count": 11,
   "id": "465e18c4",
   "metadata": {},
   "outputs": [
    {
     "name": "stdout",
     "output_type": "stream",
     "text": [
      "Using cuda device\n"
     ]
    }
   ],
   "source": [
    "# Check device used\n",
    "device = \"cuda\" if torch.cuda.is_available() else \"cpu\"\n",
    "print(f\"Using {device} device\")"
   ]
  },
  {
   "cell_type": "code",
   "execution_count": 12,
   "id": "a6e24631",
   "metadata": {},
   "outputs": [],
   "source": [
    "# # Basic Neural Network as outlined in lecture notes\n",
    "# class NeuralNetwork(nn.Module):\n",
    "#     def __init__(self):\n",
    "#         super(NeuralNetwork, self).__init__()\n",
    "#         self.flatten = nn.Flatten()\n",
    "#         #self.linear1 = nn.Linear(28*28, 512)\n",
    "#         #self.linear2 = nn.Linear(512, 512)\n",
    "#         #self.linear3 = nn.Linear(512, 10)\n",
    "#         #self.relu = nn.ReLU()\n",
    "        \n",
    "#         self.linear_relu_stack = nn.Sequential(\n",
    "#             nn.Linear(28*28, 512),\n",
    "#             nn.ReLU(),\n",
    "#             nn.Linear(512, 512),\n",
    "#             nn.ReLU(),\n",
    "#             nn.Linear(512, 1),\n",
    "#         )\n",
    "\n",
    "#     def forward(self, x):\n",
    "#         x = self.flatten(x)\n",
    "#         #x = self.linear1(x)\n",
    "#         #x = self.relu(x)\n",
    "#         #x = self.linear2(x)\n",
    "#         #x = self.relu(x)\n",
    "#         #logits = self.linear3(x)\n",
    "#         logits = self.linear_relu_stack(x)\n",
    "#         return logits"
   ]
  },
  {
   "cell_type": "code",
   "execution_count": 13,
   "id": "22a263ea",
   "metadata": {},
   "outputs": [],
   "source": [
    "# Based on https://towardsdev.com/implement-resnet-with-pytorch-a9fb40a77448\n",
    "\n",
    "class ResBlock(nn.Module):\n",
    "    def __init__(self, in_channels, out_channels, downsample):\n",
    "        super().__init__()\n",
    "        if downsample:\n",
    "            self.conv1 = nn.Conv2d(in_channels, out_channels, kernel_size=3, stride=2, padding=1)\n",
    "            self.shortcut = nn.Sequential(\n",
    "                nn.Conv2d(in_channels, out_channels, kernel_size=1, stride=2),\n",
    "                nn.BatchNorm2d(out_channels)\n",
    "            )\n",
    "        else:\n",
    "            self.conv1 = nn.Conv2d(in_channels, out_channels, kernel_size=3, stride=1, padding=1)\n",
    "            self.shortcut = nn.Sequential()\n",
    "\n",
    "        self.conv2 = nn.Conv2d(out_channels, out_channels, kernel_size=3, stride=1, padding=1)\n",
    "        self.bn1 = nn.BatchNorm2d(out_channels)\n",
    "        self.bn2 = nn.BatchNorm2d(out_channels)\n",
    "\n",
    "    def forward(self, input):\n",
    "        shortcut = self.shortcut(input)\n",
    "        input = nn.ReLU()(self.bn1(self.conv1(input)))\n",
    "        input = nn.ReLU()(self.bn2(self.conv2(input)))\n",
    "        input = input + shortcut\n",
    "        return nn.ReLU()(input)"
   ]
  },
  {
   "cell_type": "code",
   "execution_count": 14,
   "id": "bdd8e83c",
   "metadata": {},
   "outputs": [],
   "source": [
    "# Based on https://towardsdev.com/implement-resnet-with-pytorch-a9fb40a77448\n",
    "\n",
    "class ResNet18(nn.Module):\n",
    "    def __init__(self, in_channels, resblock, outputs=1):\n",
    "        super().__init__()\n",
    "        self.layer0 = nn.Sequential(\n",
    "            nn.Conv2d(in_channels, 64, kernel_size=7, stride=2, padding=3),\n",
    "            nn.MaxPool2d(kernel_size=3, stride=2, padding=1),\n",
    "            nn.BatchNorm2d(64),\n",
    "            nn.ReLU()\n",
    "        )\n",
    "\n",
    "        self.layer1 = nn.Sequential(\n",
    "            resblock(64, 64, downsample=False),\n",
    "            resblock(64, 64, downsample=False)\n",
    "        )\n",
    "\n",
    "        self.layer2 = nn.Sequential(\n",
    "            resblock(64, 128, downsample=True),\n",
    "            resblock(128, 128, downsample=False)\n",
    "        )\n",
    "\n",
    "        self.layer3 = nn.Sequential(\n",
    "            resblock(128, 256, downsample=True),\n",
    "            resblock(256, 256, downsample=False)\n",
    "        )\n",
    "\n",
    "\n",
    "        self.layer4 = nn.Sequential(\n",
    "            resblock(256, 512, downsample=True),\n",
    "            resblock(512, 512, downsample=False)\n",
    "        )\n",
    "\n",
    "        self.gap = torch.nn.AdaptiveAvgPool2d(1)\n",
    "        self.fc = torch.nn.Linear(512, outputs)\n",
    "\n",
    "    def forward(self, input):\n",
    "        input = self.layer0(input)\n",
    "        input = self.layer1(input)\n",
    "        input = self.layer2(input)\n",
    "        input = self.layer3(input)\n",
    "        input = self.layer4(input)\n",
    "        input = self.gap(input)\n",
    "        input = torch.flatten(input)\n",
    "        input = self.fc(input)\n",
    "\n",
    "        return input"
   ]
  },
  {
   "cell_type": "code",
   "execution_count": 15,
   "id": "ef9fa88d",
   "metadata": {},
   "outputs": [
    {
     "name": "stdout",
     "output_type": "stream",
     "text": [
      "ResNet18(\n",
      "  (layer0): Sequential(\n",
      "    (0): Conv2d(3, 64, kernel_size=(7, 7), stride=(2, 2), padding=(3, 3))\n",
      "    (1): MaxPool2d(kernel_size=3, stride=2, padding=1, dilation=1, ceil_mode=False)\n",
      "    (2): BatchNorm2d(64, eps=1e-05, momentum=0.1, affine=True, track_running_stats=True)\n",
      "    (3): ReLU()\n",
      "  )\n",
      "  (layer1): Sequential(\n",
      "    (0): ResBlock(\n",
      "      (conv1): Conv2d(64, 64, kernel_size=(3, 3), stride=(1, 1), padding=(1, 1))\n",
      "      (shortcut): Sequential()\n",
      "      (conv2): Conv2d(64, 64, kernel_size=(3, 3), stride=(1, 1), padding=(1, 1))\n",
      "      (bn1): BatchNorm2d(64, eps=1e-05, momentum=0.1, affine=True, track_running_stats=True)\n",
      "      (bn2): BatchNorm2d(64, eps=1e-05, momentum=0.1, affine=True, track_running_stats=True)\n",
      "    )\n",
      "    (1): ResBlock(\n",
      "      (conv1): Conv2d(64, 64, kernel_size=(3, 3), stride=(1, 1), padding=(1, 1))\n",
      "      (shortcut): Sequential()\n",
      "      (conv2): Conv2d(64, 64, kernel_size=(3, 3), stride=(1, 1), padding=(1, 1))\n",
      "      (bn1): BatchNorm2d(64, eps=1e-05, momentum=0.1, affine=True, track_running_stats=True)\n",
      "      (bn2): BatchNorm2d(64, eps=1e-05, momentum=0.1, affine=True, track_running_stats=True)\n",
      "    )\n",
      "  )\n",
      "  (layer2): Sequential(\n",
      "    (0): ResBlock(\n",
      "      (conv1): Conv2d(64, 128, kernel_size=(3, 3), stride=(2, 2), padding=(1, 1))\n",
      "      (shortcut): Sequential(\n",
      "        (0): Conv2d(64, 128, kernel_size=(1, 1), stride=(2, 2))\n",
      "        (1): BatchNorm2d(128, eps=1e-05, momentum=0.1, affine=True, track_running_stats=True)\n",
      "      )\n",
      "      (conv2): Conv2d(128, 128, kernel_size=(3, 3), stride=(1, 1), padding=(1, 1))\n",
      "      (bn1): BatchNorm2d(128, eps=1e-05, momentum=0.1, affine=True, track_running_stats=True)\n",
      "      (bn2): BatchNorm2d(128, eps=1e-05, momentum=0.1, affine=True, track_running_stats=True)\n",
      "    )\n",
      "    (1): ResBlock(\n",
      "      (conv1): Conv2d(128, 128, kernel_size=(3, 3), stride=(1, 1), padding=(1, 1))\n",
      "      (shortcut): Sequential()\n",
      "      (conv2): Conv2d(128, 128, kernel_size=(3, 3), stride=(1, 1), padding=(1, 1))\n",
      "      (bn1): BatchNorm2d(128, eps=1e-05, momentum=0.1, affine=True, track_running_stats=True)\n",
      "      (bn2): BatchNorm2d(128, eps=1e-05, momentum=0.1, affine=True, track_running_stats=True)\n",
      "    )\n",
      "  )\n",
      "  (layer3): Sequential(\n",
      "    (0): ResBlock(\n",
      "      (conv1): Conv2d(128, 256, kernel_size=(3, 3), stride=(2, 2), padding=(1, 1))\n",
      "      (shortcut): Sequential(\n",
      "        (0): Conv2d(128, 256, kernel_size=(1, 1), stride=(2, 2))\n",
      "        (1): BatchNorm2d(256, eps=1e-05, momentum=0.1, affine=True, track_running_stats=True)\n",
      "      )\n",
      "      (conv2): Conv2d(256, 256, kernel_size=(3, 3), stride=(1, 1), padding=(1, 1))\n",
      "      (bn1): BatchNorm2d(256, eps=1e-05, momentum=0.1, affine=True, track_running_stats=True)\n",
      "      (bn2): BatchNorm2d(256, eps=1e-05, momentum=0.1, affine=True, track_running_stats=True)\n",
      "    )\n",
      "    (1): ResBlock(\n",
      "      (conv1): Conv2d(256, 256, kernel_size=(3, 3), stride=(1, 1), padding=(1, 1))\n",
      "      (shortcut): Sequential()\n",
      "      (conv2): Conv2d(256, 256, kernel_size=(3, 3), stride=(1, 1), padding=(1, 1))\n",
      "      (bn1): BatchNorm2d(256, eps=1e-05, momentum=0.1, affine=True, track_running_stats=True)\n",
      "      (bn2): BatchNorm2d(256, eps=1e-05, momentum=0.1, affine=True, track_running_stats=True)\n",
      "    )\n",
      "  )\n",
      "  (layer4): Sequential(\n",
      "    (0): ResBlock(\n",
      "      (conv1): Conv2d(256, 512, kernel_size=(3, 3), stride=(2, 2), padding=(1, 1))\n",
      "      (shortcut): Sequential(\n",
      "        (0): Conv2d(256, 512, kernel_size=(1, 1), stride=(2, 2))\n",
      "        (1): BatchNorm2d(512, eps=1e-05, momentum=0.1, affine=True, track_running_stats=True)\n",
      "      )\n",
      "      (conv2): Conv2d(512, 512, kernel_size=(3, 3), stride=(1, 1), padding=(1, 1))\n",
      "      (bn1): BatchNorm2d(512, eps=1e-05, momentum=0.1, affine=True, track_running_stats=True)\n",
      "      (bn2): BatchNorm2d(512, eps=1e-05, momentum=0.1, affine=True, track_running_stats=True)\n",
      "    )\n",
      "    (1): ResBlock(\n",
      "      (conv1): Conv2d(512, 512, kernel_size=(3, 3), stride=(1, 1), padding=(1, 1))\n",
      "      (shortcut): Sequential()\n",
      "      (conv2): Conv2d(512, 512, kernel_size=(3, 3), stride=(1, 1), padding=(1, 1))\n",
      "      (bn1): BatchNorm2d(512, eps=1e-05, momentum=0.1, affine=True, track_running_stats=True)\n",
      "      (bn2): BatchNorm2d(512, eps=1e-05, momentum=0.1, affine=True, track_running_stats=True)\n",
      "    )\n",
      "  )\n",
      "  (gap): AdaptiveAvgPool2d(output_size=1)\n",
      "  (fc): Linear(in_features=512, out_features=1, bias=True)\n",
      ")\n"
     ]
    }
   ],
   "source": [
    "# Potentially use pre-trained model\n",
    "# resnet_model = models.resnet18(pretrained=True).to(device) \n",
    "\n",
    "# Don't use pre-trained\n",
    "model = ResNet18(in_channels = 3, resblock = ResBlock).to(device)\n",
    "loss_fn = torch.nn.MSELoss()\n",
    "optimizer = torch.optim.RMSprop(model.parameters(), lr=1e-4)\n",
    "print(model)\n",
    "\n",
    "# print(model(crop_dataset[3].to(device)))\n",
    "# optimizer = torch.optim.Adam"
   ]
  },
  {
   "cell_type": "code",
   "execution_count": 65,
   "id": "a0a2614b",
   "metadata": {},
   "outputs": [],
   "source": [
    "# Train model\n",
    "def train(dataloader, model, loss_fn, optimizer):\n",
    "    size = len(dataloader.dataset)\n",
    "    num_batches = len(dataloader)\n",
    "    model.train()\n",
    "    correct, train_loss = 0, 0 \n",
    "    for batch, (X, y) in enumerate(dataloader):\n",
    "        X, y = X.to(device), y.to(device)\n",
    "\n",
    "        # Compute prediction error\n",
    "        pred = model(X)\n",
    "        loss = loss_fn(pred, y)\n",
    "        train_loss += loss.item()\n",
    "#         print(f\"Actual {y}\")\n",
    "#         print(f\"Predicted {pred}\")\n",
    "\n",
    "        # Backpropagation\n",
    "        optimizer.zero_grad()  \n",
    "        loss.backward()\n",
    "        optimizer.step() \n",
    "    train_loss /= num_batches\n",
    "    return train_loss "
   ]
  },
  {
   "cell_type": "code",
   "execution_count": 66,
   "id": "82bbea91",
   "metadata": {},
   "outputs": [],
   "source": [
    "def test(dataloader, model):\n",
    "    size = len(dataloader.dataset)\n",
    "    num_batches = len(dataloader)\n",
    "    model.eval() \n",
    "    \n",
    "    test_val = pd.DataFrame(columns = ['Actual', 'Predicted', 'Error', 'Error_sq', 'Perc_Err'])\n",
    "    \n",
    "    with torch.no_grad():\n",
    "        for X, y in dataloader:\n",
    "            X, y = X.to(device), y.to(device).item()\n",
    "            pred = model(X).item()\n",
    "#             print(f\"Actual {y}\")\n",
    "#             print(f\"Predicted {pred}\")\n",
    "#             print(f\"Error {pred - y}\")\n",
    "#             print(f\"Percentage Error {(pred - y) / y}\")\n",
    "                    \n",
    "            test_val = test_val.append({'Actual' : y, 'Predicted' : pred , 'Error' : abs(pred - y),  'Error_sq': (pred - y)**2, 'Perc_Err' : abs(pred - y) / y}, ignore_index = True)\n",
    "\n",
    "    return test_val"
   ]
  },
  {
   "cell_type": "code",
   "execution_count": 68,
   "id": "d066701e",
   "metadata": {},
   "outputs": [
    {
     "name": "stdout",
     "output_type": "stream",
     "text": [
      "Epoch 0:\n",
      "Avg training loss: 2519637.593921\n",
      "Root Mean Squared Error: 1606.8144392021577\n",
      "Mean Average Percentage Error: 0.515245842921426\n",
      "Epoch 1:\n",
      "Avg training loss: 2460435.618455\n",
      "Root Mean Squared Error: 1587.8329061013922\n",
      "Mean Average Percentage Error: 0.507247548953409\n",
      "Epoch 2:\n",
      "Avg training loss: 2404475.672389\n",
      "Root Mean Squared Error: 1570.0777493723888\n",
      "Mean Average Percentage Error: 0.4996972536669925\n",
      "Epoch 3:\n",
      "Avg training loss: 2351980.960007\n",
      "Root Mean Squared Error: 1554.6651786451414\n",
      "Mean Average Percentage Error: 0.49270870312657694\n",
      "Epoch 4:\n",
      "Avg training loss: 2303169.727695\n",
      "Root Mean Squared Error: 1538.2078570257258\n",
      "Mean Average Percentage Error: 0.48690370075793843\n",
      "Epoch 5:\n",
      "Avg training loss: 2258407.926581\n",
      "Root Mean Squared Error: 1520.9854143851046\n",
      "Mean Average Percentage Error: 0.48174968666883217\n",
      "Epoch 6:\n",
      "Avg training loss: 2216050.383843\n",
      "Root Mean Squared Error: 1505.9772009567544\n",
      "Mean Average Percentage Error: 0.47437247222706463\n",
      "Epoch 7:\n",
      "Avg training loss: 2176633.413575\n",
      "Root Mean Squared Error: 1489.9659007458908\n",
      "Mean Average Percentage Error: 0.4665330337338465\n",
      "Epoch 8:\n",
      "Avg training loss: 2140588.816502\n",
      "Root Mean Squared Error: 1476.953690008865\n",
      "Mean Average Percentage Error: 0.46266943798098176\n",
      "Epoch 9:\n",
      "Avg training loss: 2104876.365642\n",
      "Root Mean Squared Error: 1461.9814045069438\n",
      "Mean Average Percentage Error: 0.4588976517176962\n",
      "Done!\n"
     ]
    }
   ],
   "source": [
    "epochs = 10 # 500\n",
    "train_loss_history = []\n",
    "test_history_RMSE = []\n",
    "test_history_MAPE = []\n",
    "\n",
    "for t in range(epochs):\n",
    "    train_loss = train(train_dataloader, model, loss_fn, optimizer)\n",
    "    test_vals = test(test_dataloader, model)\n",
    "    train_loss_history.append(train_loss)\n",
    "    test_history_RMSE.append(math.sqrt(test_vals['Error_sq'].sum() / test_vals['Error_sq'].count()))\n",
    "    test_history_MAPE.append(test_vals['Perc_Err'].mean())\n",
    "    # test_loss, test_acc = test(testloader, model, loss_fn)\n",
    "    if t%1 == 0:\n",
    "        print(f\"Epoch {t}:\")\n",
    "        print(f\"Avg training loss: {train_loss:>8f}\")\n",
    "        print(f\"Root Mean Squared Error: {math.sqrt(test_vals['Error_sq'].sum() / test_vals['Error_sq'].count())}\")\n",
    "        print(f\"Mean Average Percentage Error: {test_vals['Perc_Err'].mean()}\")\n",
    "print(\"Done!\")"
   ]
  },
  {
   "cell_type": "code",
   "execution_count": 18,
   "id": "58d5ccd6",
   "metadata": {},
   "outputs": [
    {
     "name": "stdout",
     "output_type": "stream",
     "text": [
      "C:\\Users\\paulr\\GitHub\\MSBD-5001-Group-Project\\PR_Sandbox\\model\n"
     ]
    }
   ],
   "source": [
    "# Save model state\n",
    "model_path = os.path.join(os.getcwd(), 'model')\n",
    "print(model_path)\n",
    "\n",
    "torch.save(model.state_dict(), model_path + '\\CNN_model_state.model')"
   ]
  },
  {
   "cell_type": "code",
   "execution_count": 19,
   "id": "4675e9d9",
   "metadata": {},
   "outputs": [
    {
     "data": {
      "text/plain": [
       "<All keys matched successfully>"
      ]
     },
     "execution_count": 19,
     "metadata": {},
     "output_type": "execute_result"
    }
   ],
   "source": [
    "# Load model state\n",
    "model_path = os.path.join(os.getcwd(), 'model')\n",
    "model.load_state_dict(torch.load(model_path + '\\CNN_model_state.model'))"
   ]
  },
  {
   "cell_type": "code",
   "execution_count": 20,
   "id": "c0779b0c",
   "metadata": {},
   "outputs": [
    {
     "name": "stdout",
     "output_type": "stream",
     "text": [
      "[4024096.30859375, 3959054.469512759, 3889632.926572901, 3817977.9237587834, 3743301.272816314, 3666150.0372726168, 3586858.9677474345, 3505958.830705496, 3423944.6009925073, 3341322.205756216]\n"
     ]
    }
   ],
   "source": [
    "print(train_loss_history)"
   ]
  },
  {
   "cell_type": "code",
   "execution_count": 21,
   "id": "852f2296",
   "metadata": {},
   "outputs": [
    {
     "data": {
      "image/png": "[encoded data removed]",
      "text/plain": [
       "<Figure size 432x288 with 1 Axes>"
      ]
     },
     "metadata": {
      "needs_background": "light"
     },
     "output_type": "display_data"
    }
   ],
   "source": [
    "# Plot Training Error\n",
    "plt.plot(train_loss_history)\n",
    "plt.ylabel('Training Error (MSE)')\n",
    "plt.xlabel('Training Epoch')\n",
    "plt.show()"
   ]
  },
  {
   "cell_type": "code",
   "execution_count": 80,
   "id": "d9a35f4a",
   "metadata": {},
   "outputs": [
    {
     "data": {
      "text/plain": [
       "[Text(0, 0.5, 'Testing Mean Average Percentage Error'),\n",
       " Text(0.5, 0, 'Training Epoch')]"
      ]
     },
     "execution_count": 80,
     "metadata": {},
     "output_type": "execute_result"
    },
    {
     "data": {
      "image/png": "[encoded data removed]",
      "text/plain": [
       "<Figure size 1080x720 with 3 Axes>"
      ]
     },
     "metadata": {
      "needs_background": "light"
     },
     "output_type": "display_data"
    }
   ],
   "source": [
    "fig, (ax1, ax2, ax3) = plt.subplots(3)\n",
    "fig.set_figheight(10)\n",
    "fig.set_figwidth(15)\n",
    "fig.suptitle('Performance vs. Training Period')\n",
    "ax1.plot(train_loss_history)\n",
    "ax2.plot(test_history_RMSE)\n",
    "ax3.plot(test_history_MAPE)\n",
    "ax1.set(ylabel = 'Training Error (MSE)')\n",
    "ax2.set(ylabel ='Testing Root Mean Squared Error')\n",
    "ax3.set(ylabel ='Testing Mean Average Percentage Error', xlabel ='Training Epoch')"
   ]
  },
  {
   "cell_type": "code",
   "execution_count": 81,
   "id": "1fe20682",
   "metadata": {},
   "outputs": [
    {
     "name": "stdout",
     "output_type": "stream",
     "text": [
      "Root Mean Squared Error: 1461.9814045069438\n",
      "Mean Average Percentage Error: 0.4588976517176962\n"
     ]
    }
   ],
   "source": [
    "# Now to make predictions and evaluate model\n",
    "test_vals = test(test_dataloader, model)\n",
    "print(f\"Root Mean Squared Error: {math.sqrt(test_vals['Error_sq'].sum() / test_vals['Error_sq'].count())}\")\n",
    "print(f\"Mean Average Percentage Error: {test_vals['Perc_Err'].mean()}\")"
   ]
  },
  {
   "cell_type": "code",
   "execution_count": 82,
   "id": "fb66d856",
   "metadata": {},
   "outputs": [
    {
     "data": {
      "text/html": [
       "<div>\n",
       "<style scoped>\n",
       "    .dataframe tbody tr th:only-of-type {\n",
       "        vertical-align: middle;\n",
       "    }\n",
       "\n",
       "    .dataframe tbody tr th {\n",
       "        vertical-align: top;\n",
       "    }\n",
       "\n",
       "    .dataframe thead th {\n",
       "        text-align: right;\n",
       "    }\n",
       "</style>\n",
       "<table border=\"1\" class=\"dataframe\">\n",
       "  <thead>\n",
       "    <tr style=\"text-align: right;\">\n",
       "      <th></th>\n",
       "      <th>Actual</th>\n",
       "      <th>Predicted</th>\n",
       "      <th>Error</th>\n",
       "      <th>Error_sq</th>\n",
       "      <th>Perc_Err</th>\n",
       "    </tr>\n",
       "  </thead>\n",
       "  <tbody>\n",
       "    <tr>\n",
       "      <th>0</th>\n",
       "      <td>1400.199951</td>\n",
       "      <td>994.765137</td>\n",
       "      <td>405.434814</td>\n",
       "      <td>1.643774e+05</td>\n",
       "      <td>0.289555</td>\n",
       "    </tr>\n",
       "    <tr>\n",
       "      <th>1</th>\n",
       "      <td>982.500000</td>\n",
       "      <td>996.354065</td>\n",
       "      <td>13.854065</td>\n",
       "      <td>1.919351e+02</td>\n",
       "      <td>0.014101</td>\n",
       "    </tr>\n",
       "    <tr>\n",
       "      <th>2</th>\n",
       "      <td>1336.699951</td>\n",
       "      <td>994.101257</td>\n",
       "      <td>342.598694</td>\n",
       "      <td>1.173739e+05</td>\n",
       "      <td>0.256302</td>\n",
       "    </tr>\n",
       "    <tr>\n",
       "      <th>3</th>\n",
       "      <td>940.500000</td>\n",
       "      <td>988.942444</td>\n",
       "      <td>48.442444</td>\n",
       "      <td>2.346670e+03</td>\n",
       "      <td>0.051507</td>\n",
       "    </tr>\n",
       "    <tr>\n",
       "      <th>4</th>\n",
       "      <td>1168.900024</td>\n",
       "      <td>998.408325</td>\n",
       "      <td>170.491699</td>\n",
       "      <td>2.906742e+04</td>\n",
       "      <td>0.145857</td>\n",
       "    </tr>\n",
       "    <tr>\n",
       "      <th>5</th>\n",
       "      <td>801.900024</td>\n",
       "      <td>961.565735</td>\n",
       "      <td>159.665710</td>\n",
       "      <td>2.549314e+04</td>\n",
       "      <td>0.199109</td>\n",
       "    </tr>\n",
       "    <tr>\n",
       "      <th>6</th>\n",
       "      <td>768.700012</td>\n",
       "      <td>453.905487</td>\n",
       "      <td>314.794525</td>\n",
       "      <td>9.909559e+04</td>\n",
       "      <td>0.409515</td>\n",
       "    </tr>\n",
       "    <tr>\n",
       "      <th>7</th>\n",
       "      <td>7117.200195</td>\n",
       "      <td>999.748840</td>\n",
       "      <td>6117.451355</td>\n",
       "      <td>3.742321e+07</td>\n",
       "      <td>0.859531</td>\n",
       "    </tr>\n",
       "    <tr>\n",
       "      <th>8</th>\n",
       "      <td>1595.400024</td>\n",
       "      <td>453.905487</td>\n",
       "      <td>1141.494537</td>\n",
       "      <td>1.303010e+06</td>\n",
       "      <td>0.715491</td>\n",
       "    </tr>\n",
       "    <tr>\n",
       "      <th>9</th>\n",
       "      <td>1830.300049</td>\n",
       "      <td>995.406616</td>\n",
       "      <td>834.893433</td>\n",
       "      <td>6.970470e+05</td>\n",
       "      <td>0.456151</td>\n",
       "    </tr>\n",
       "    <tr>\n",
       "      <th>10</th>\n",
       "      <td>1590.599976</td>\n",
       "      <td>979.392151</td>\n",
       "      <td>611.207825</td>\n",
       "      <td>3.735750e+05</td>\n",
       "      <td>0.384262</td>\n",
       "    </tr>\n",
       "    <tr>\n",
       "      <th>11</th>\n",
       "      <td>1575.500000</td>\n",
       "      <td>991.334961</td>\n",
       "      <td>584.165039</td>\n",
       "      <td>3.412488e+05</td>\n",
       "      <td>0.370781</td>\n",
       "    </tr>\n",
       "    <tr>\n",
       "      <th>12</th>\n",
       "      <td>1336.800049</td>\n",
       "      <td>626.034851</td>\n",
       "      <td>710.765198</td>\n",
       "      <td>5.051872e+05</td>\n",
       "      <td>0.531691</td>\n",
       "    </tr>\n",
       "    <tr>\n",
       "      <th>13</th>\n",
       "      <td>2140.600098</td>\n",
       "      <td>996.167786</td>\n",
       "      <td>1144.432312</td>\n",
       "      <td>1.309725e+06</td>\n",
       "      <td>0.534632</td>\n",
       "    </tr>\n",
       "    <tr>\n",
       "      <th>14</th>\n",
       "      <td>359.899994</td>\n",
       "      <td>980.172974</td>\n",
       "      <td>620.272980</td>\n",
       "      <td>3.847386e+05</td>\n",
       "      <td>1.723459</td>\n",
       "    </tr>\n",
       "    <tr>\n",
       "      <th>15</th>\n",
       "      <td>1445.000000</td>\n",
       "      <td>923.079956</td>\n",
       "      <td>521.920044</td>\n",
       "      <td>2.724005e+05</td>\n",
       "      <td>0.361190</td>\n",
       "    </tr>\n",
       "    <tr>\n",
       "      <th>16</th>\n",
       "      <td>551.299988</td>\n",
       "      <td>574.751831</td>\n",
       "      <td>23.451843</td>\n",
       "      <td>5.499890e+02</td>\n",
       "      <td>0.042539</td>\n",
       "    </tr>\n",
       "    <tr>\n",
       "      <th>17</th>\n",
       "      <td>1443.500000</td>\n",
       "      <td>998.978821</td>\n",
       "      <td>444.521179</td>\n",
       "      <td>1.975991e+05</td>\n",
       "      <td>0.307947</td>\n",
       "    </tr>\n",
       "    <tr>\n",
       "      <th>18</th>\n",
       "      <td>1376.099976</td>\n",
       "      <td>797.792297</td>\n",
       "      <td>578.307678</td>\n",
       "      <td>3.344398e+05</td>\n",
       "      <td>0.420251</td>\n",
       "    </tr>\n",
       "    <tr>\n",
       "      <th>19</th>\n",
       "      <td>1331.800049</td>\n",
       "      <td>974.134155</td>\n",
       "      <td>357.665894</td>\n",
       "      <td>1.279249e+05</td>\n",
       "      <td>0.268558</td>\n",
       "    </tr>\n",
       "    <tr>\n",
       "      <th>20</th>\n",
       "      <td>538.000000</td>\n",
       "      <td>990.574036</td>\n",
       "      <td>452.574036</td>\n",
       "      <td>2.048233e+05</td>\n",
       "      <td>0.841216</td>\n",
       "    </tr>\n",
       "    <tr>\n",
       "      <th>21</th>\n",
       "      <td>3542.399902</td>\n",
       "      <td>992.558044</td>\n",
       "      <td>2549.841858</td>\n",
       "      <td>6.501694e+06</td>\n",
       "      <td>0.719806</td>\n",
       "    </tr>\n",
       "    <tr>\n",
       "      <th>22</th>\n",
       "      <td>1102.800049</td>\n",
       "      <td>986.732422</td>\n",
       "      <td>116.067627</td>\n",
       "      <td>1.347169e+04</td>\n",
       "      <td>0.105248</td>\n",
       "    </tr>\n",
       "    <tr>\n",
       "      <th>23</th>\n",
       "      <td>1930.500000</td>\n",
       "      <td>995.296143</td>\n",
       "      <td>935.203857</td>\n",
       "      <td>8.746063e+05</td>\n",
       "      <td>0.484436</td>\n",
       "    </tr>\n",
       "    <tr>\n",
       "      <th>24</th>\n",
       "      <td>3007.399902</td>\n",
       "      <td>986.062256</td>\n",
       "      <td>2021.337646</td>\n",
       "      <td>4.085806e+06</td>\n",
       "      <td>0.672121</td>\n",
       "    </tr>\n",
       "    <tr>\n",
       "      <th>25</th>\n",
       "      <td>558.599976</td>\n",
       "      <td>986.533020</td>\n",
       "      <td>427.933044</td>\n",
       "      <td>1.831267e+05</td>\n",
       "      <td>0.766081</td>\n",
       "    </tr>\n",
       "  </tbody>\n",
       "</table>\n",
       "</div>"
      ],
      "text/plain": [
       "         Actual   Predicted        Error      Error_sq  Perc_Err\n",
       "0   1400.199951  994.765137   405.434814  1.643774e+05  0.289555\n",
       "1    982.500000  996.354065    13.854065  1.919351e+02  0.014101\n",
       "2   1336.699951  994.101257   342.598694  1.173739e+05  0.256302\n",
       "3    940.500000  988.942444    48.442444  2.346670e+03  0.051507\n",
       "4   1168.900024  998.408325   170.491699  2.906742e+04  0.145857\n",
       "5    801.900024  961.565735   159.665710  2.549314e+04  0.199109\n",
       "6    768.700012  453.905487   314.794525  9.909559e+04  0.409515\n",
       "7   7117.200195  999.748840  6117.451355  3.742321e+07  0.859531\n",
       "8   1595.400024  453.905487  1141.494537  1.303010e+06  0.715491\n",
       "9   1830.300049  995.406616   834.893433  6.970470e+05  0.456151\n",
       "10  1590.599976  979.392151   611.207825  3.735750e+05  0.384262\n",
       "11  1575.500000  991.334961   584.165039  3.412488e+05  0.370781\n",
       "12  1336.800049  626.034851   710.765198  5.051872e+05  0.531691\n",
       "13  2140.600098  996.167786  1144.432312  1.309725e+06  0.534632\n",
       "14   359.899994  980.172974   620.272980  3.847386e+05  1.723459\n",
       "15  1445.000000  923.079956   521.920044  2.724005e+05  0.361190\n",
       "16   551.299988  574.751831    23.451843  5.499890e+02  0.042539\n",
       "17  1443.500000  998.978821   444.521179  1.975991e+05  0.307947\n",
       "18  1376.099976  797.792297   578.307678  3.344398e+05  0.420251\n",
       "19  1331.800049  974.134155   357.665894  1.279249e+05  0.268558\n",
       "20   538.000000  990.574036   452.574036  2.048233e+05  0.841216\n",
       "21  3542.399902  992.558044  2549.841858  6.501694e+06  0.719806\n",
       "22  1102.800049  986.732422   116.067627  1.347169e+04  0.105248\n",
       "23  1930.500000  995.296143   935.203857  8.746063e+05  0.484436\n",
       "24  3007.399902  986.062256  2021.337646  4.085806e+06  0.672121\n",
       "25   558.599976  986.533020   427.933044  1.831267e+05  0.766081"
      ]
     },
     "execution_count": 82,
     "metadata": {},
     "output_type": "execute_result"
    }
   ],
   "source": [
    "test_vals"
   ]
  },
  {
   "cell_type": "code",
   "execution_count": null,
   "id": "3960cec8",
   "metadata": {},
   "outputs": [],
   "source": []
  }
 ],
 "metadata": {
  "kernelspec": {
   "display_name": "pytorch",
   "language": "python",
   "name": "pytorch"
  },
  "language_info": {
   "codemirror_mode": {
    "name": "ipython",
    "version": 3
   },
   "file_extension": ".py",
   "mimetype": "text/x-python",
   "name": "python",
   "nbconvert_exporter": "python",
   "pygments_lexer": "ipython3",
   "version": "3.9.12"
  }
 },
 "nbformat": 4,
 "nbformat_minor": 5
}
