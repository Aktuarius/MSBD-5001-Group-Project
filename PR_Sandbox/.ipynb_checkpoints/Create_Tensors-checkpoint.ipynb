{
 "cells": [
  {
   "cell_type": "code",
   "execution_count": 1,
   "id": "9e6ce992",
   "metadata": {},
   "outputs": [],
   "source": [
    "# Use PyTorch to build neural networkabs\n",
    "# Inspired by pytorch workshop conducted in MSBD 5001 course\n",
    "\n",
    "# Import required packages\n",
    "import os\n",
    "import numpy as np\n",
    "import pandas as pd\n",
    "import torch\n",
    "from torch import nn\n",
    "import torch.nn.functional as F\n",
    "from torch.utils.data import DataLoader\n",
    "from torchvision import datasets, transforms\n",
    "from torchvision.transforms import ToPILImage\n",
    "import matplotlib.pyplot as plt"
   ]
  },
  {
   "cell_type": "code",
   "execution_count": 2,
   "id": "b6199ce7",
   "metadata": {},
   "outputs": [],
   "source": [
    "# Import the yield data as pandas data frame (Note this is saved as a csv file in base working directory)\n",
    "file_path = os.path.join(os.getcwd()) + '/'\n",
    "file_name = 'Crop_Yields.csv'\n",
    "yield_data = pd.read_csv(file_path + file_name)"
   ]
  },
  {
   "cell_type": "code",
   "execution_count": 3,
   "id": "810a2051",
   "metadata": {},
   "outputs": [],
   "source": [
    "# Create class to load dataset\n",
    "\n",
    "class CustomImageDataset():\n",
    "    def __init__(self, hist_dir, crop_yield_table, transform=None, target_transform=None):  \n",
    "        self.hist_dir = hist_dir # References the directory for each given country where the data is stored\n",
    "        self.transform = transform\n",
    "        self.target_transform = target_transform\n",
    "        # load the files \n",
    "        filenames = [] # For every year, yields a numpy array of dimension 576 x 29\n",
    "        crop_yields = []\n",
    "        for filename in os.listdir(hist_dir):\n",
    "            filenames.append(filename)\n",
    "            crop_yields.append(crop_yield_table[crop_yield_table.Year == int(filename[-8:-4])]['Cereal Yield'].values[0])\n",
    "        self.filenames = filenames\n",
    "        self.crop_yields =crop_yields\n",
    "        \n",
    "    def __len__(self):\n",
    "        return len(self.filenames)\n",
    "\n",
    "    def __getitem__(self, idx):\n",
    "        hist_dir = os.path.join(self.hist_dir, self.filenames[idx])\n",
    "        # hist = Image.open(hist_dir)\n",
    "        hist = np.load(hist_dir)\n",
    "        crop_yield = self.crop_yields[idx]\n",
    "        if self.transform:\n",
    "            hist = self.transform(hist).float()\n",
    "        if self.target_transform:\n",
    "            crop_yield = self.target_transform(crop_yield).float()\n",
    "        return hist, crop_yield"
   ]
  },
  {
   "cell_type": "code",
   "execution_count": 4,
   "id": "dbd91e70",
   "metadata": {},
   "outputs": [],
   "source": [
    "from torchvision.transforms import Resize, ToTensor, Compose\n",
    "\n",
    "crop_dataset = CustomImageDataset(\"./kenya\", crop_yield_table = yield_data, transform = ToTensor())\n",
    "# print(dataset.filenames)\n",
    "# print(dataset.crop_yields)\n",
    "# dataset[3]"
   ]
  },
  {
   "cell_type": "code",
   "execution_count": 5,
   "id": "f58a60cf",
   "metadata": {},
   "outputs": [
    {
     "data": {
      "text/plain": [
       "(tensor([[[0.0000, 0.0000, 0.0000,  ..., 0.0066, 0.0000, 0.0000],\n",
       "          [0.0658, 0.2105, 0.0263,  ..., 0.0724, 0.0000, 0.0000],\n",
       "          [0.1974, 0.3224, 0.6250,  ..., 0.2500, 0.3355, 0.0461],\n",
       "          ...,\n",
       "          [0.0000, 0.0000, 0.0000,  ..., 0.0000, 0.0000, 0.0000],\n",
       "          [0.0000, 0.0000, 0.0000,  ..., 0.0000, 0.0000, 0.0000],\n",
       "          [0.0000, 0.0000, 0.0000,  ..., 0.0000, 0.0000, 0.0000]]]),\n",
       " 1.74)"
      ]
     },
     "execution_count": 5,
     "metadata": {},
     "output_type": "execute_result"
    }
   ],
   "source": [
    "crop_dataset[3] # Shows for a given tensor which consists of a pair of 1) array of binned histogram data; and 2) yield output"
   ]
  },
  {
   "cell_type": "code",
   "execution_count": 6,
   "id": "d9428cfb",
   "metadata": {},
   "outputs": [
    {
     "data": {
      "text/plain": [
       "torch.Size([1, 576, 29])"
      ]
     },
     "execution_count": 6,
     "metadata": {},
     "output_type": "execute_result"
    }
   ],
   "source": [
    "crop_dataset[3][0].shape"
   ]
  },
  {
   "cell_type": "code",
   "execution_count": 7,
   "id": "f9d34b1c",
   "metadata": {},
   "outputs": [
    {
     "data": {
      "text/plain": [
       "torch.Size([1, 576, 29])"
      ]
     },
     "execution_count": 7,
     "metadata": {},
     "output_type": "execute_result"
    }
   ],
   "source": [
    "crop_dataset[3][0].shape # For each binned histogram data, consists of 576 observations across 29 dimensions"
   ]
  },
  {
   "cell_type": "code",
   "execution_count": 8,
   "id": "7b010dba",
   "metadata": {},
   "outputs": [
    {
     "name": "stdout",
     "output_type": "stream",
     "text": [
      "type of the image:  <class 'torch.Tensor'>\n",
      "Yield: 1.24\n"
     ]
    },
    {
     "data": {
      "image/png": "[encoded data removed]",
      "text/plain": [
       "<Figure size 1332x756 with 1 Axes>"
      ]
     },
     "metadata": {
      "needs_background": "light"
     },
     "output_type": "display_data"
    }
   ],
   "source": [
    "# Plot data for one sample pair\n",
    "raw_image, crop_yield = crop_dataset[0]\n",
    "figure = plt.figure()\n",
    "figure.set_size_inches(18.5, 10.5)\n",
    "\n",
    "print(\"type of the image: \", type(raw_image))\n",
    "\n",
    "if type(raw_image) == torch.Tensor:\n",
    "    plt.imshow(ToPILImage()(raw_image))\n",
    "else:\n",
    "    plt.imshow(raw_image)\n",
    "    \n",
    "print(f\"Yield: {crop_yield}\")"
   ]
  },
  {
   "cell_type": "code",
   "execution_count": 9,
   "id": "0887fa79",
   "metadata": {},
   "outputs": [
    {
     "data": {
      "text/plain": [
       "torch.Size([1, 576, 29])"
      ]
     },
     "execution_count": 9,
     "metadata": {},
     "output_type": "execute_result"
    }
   ],
   "source": [
    "raw_image.shape"
   ]
  },
  {
   "cell_type": "code",
   "execution_count": null,
   "id": "55ea5279",
   "metadata": {},
   "outputs": [],
   "source": []
  },
  {
   "cell_type": "code",
   "execution_count": null,
   "id": "418a3063",
   "metadata": {},
   "outputs": [],
   "source": []
  }
 ],
 "metadata": {
  "kernelspec": {
   "display_name": "pytorch",
   "language": "python",
   "name": "pytorch"
  },
  "language_info": {
   "codemirror_mode": {
    "name": "ipython",
    "version": 3
   },
   "file_extension": ".py",
   "mimetype": "text/x-python",
   "name": "python",
   "nbconvert_exporter": "python",
   "pygments_lexer": "ipython3",
   "version": "3.9.7"
  }
 },
 "nbformat": 4,
 "nbformat_minor": 5
}
