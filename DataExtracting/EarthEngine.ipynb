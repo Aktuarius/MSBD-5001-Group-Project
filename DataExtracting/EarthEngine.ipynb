{
 "cells": [
  {
   "cell_type": "code",
   "execution_count": 8,
   "metadata": {},
   "outputs": [],
   "source": [
    "import ee\n",
    "import json\n",
    "from pathlib import Path\n",
    "import httplib2\n",
    "import matplotlib.pyplot as plt\n",
    "import numpy as np\n",
    "import IPython.display as disp\n",
    "from osgeo import gdal\n",
    "import time\n",
    "from datetime import datetime\n",
    "\n",
    "class ProcessAndExport:\n",
    "    def __init__(self,collection_Name,bands_idx):\n",
    "        self.collection_name = collection_Name\n",
    "        self.bands_idx = bands_idx\n",
    "        \n",
    "    def appendBands(self,now,running):\n",
    "        running = ee.Image(running)\n",
    "        now = now.select(self.bands_idx)\n",
    "        accum = ee.Algorithms.If(ee.Algorithms.IsEqual(running,None),now,running.addBands(ee.Image(now)))\n",
    "        return accum\n",
    "\n",
    "    def exportImage(self,img,desc,region,type_name):\n",
    "        task = ee.batch.Export.image.toDrive(image=img,folder = f\"{desc}_{type_name}\",description = desc,region=region,scale=5000,crs = 'EPSG:4326')\n",
    "        task.start()\n",
    "        while task.status()['state'] == \"RUNNING\":\n",
    "            print(\"Running...\")\n",
    "            time.sleep(10)\n",
    "        print(f\"Done,{task.status()}\")\n",
    "\n",
    "\n",
    "class ObtainGEEdata:\n",
    "    def __init__(self,collection_name,date1,date2,countries,geojson_path,bands_idx,type_name):\n",
    "        if type(geojson_path) == str and Path(geojson_path).exists():\n",
    "            self.geojson_path = geojson_path\n",
    "            self.collection_name = collection_name\n",
    "            if datetime.strptime(date1,\"%Y-%m-%d\") < datetime.strptime(date2,\"%Y-%m-%d\"):\n",
    "                self.date1 = date1\n",
    "                self.date2 = date2\n",
    "            else:\n",
    "                raise Exception(\"Date1 cannot be after Date2\")\n",
    "            self.countries = countries\n",
    "            self.bands_idx = bands_idx\n",
    "            self.type_name = type_name\n",
    "            self.get_coordinates()\n",
    "            self.extract_collections()\n",
    "        else:\n",
    "            raise FileNotFoundError(\"GeoJson file does not exist\")\n",
    "\n",
    "    def get_coordinates(self):\n",
    "        with open(self.geojson_path) as f:\n",
    "            data = json.load(f)\n",
    "        self.coords = {}\n",
    "        for j in self.countries:\n",
    "            for i in data['features']:\n",
    "                if i['properties']['name'] == j:\n",
    "                    self.coords[j] = i['geometry']['coordinates']\n",
    "                    break\n",
    "\n",
    "    def extract_collections(self):\n",
    "        for country in self.countries:\n",
    "            print(len(self.coords[country]))\n",
    "            aoi = ee.Geometry.MultiPolygon(self.coords[country])\n",
    "            imgcoll = ee.ImageCollection(self.collection_name)\\\n",
    "                                        .filterBounds(aoi)\\\n",
    "                                        .filterDate(ee.Date(self.date1),ee.Date(self.date2))\n",
    "            print(f\"Number of images : {imgcoll.size().getInfo()}\")\n",
    "            processAndexport = ProcessAndExport(collection_Name=self.collection_name,bands_idx=self.bands_idx)\n",
    "            img = imgcoll.iterate(processAndexport.appendBands)\n",
    "            img = ee.Image(img)\n",
    "            try:\n",
    "                processAndexport.exportImage(img,country,aoi,self.type_name)\n",
    "            except:\n",
    "                print(f'Failed:{country}')"
   ]
  },
  {
   "cell_type": "code",
   "execution_count": 9,
   "metadata": {},
   "outputs": [
    {
     "data": {
      "text/html": [
       "<p>To authorize access needed by Earth Engine, open the following\n",
       "        URL in a web browser and follow the instructions:</p>\n",
       "        <p><a href=https://accounts.google.com/o/oauth2/auth?client_id=517222506229-vsmmajv00ul0bs7p89v5m89qs8eb9359.apps.googleusercontent.com&scope=https%3A%2F%2Fwww.googleapis.com%2Fauth%2Fearthengine+https%3A%2F%2Fwww.googleapis.com%2Fauth%2Fdevstorage.full_control&redirect_uri=urn%3Aietf%3Awg%3Aoauth%3A2.0%3Aoob&response_type=code&code_challenge=8D8W3uE3n17xb4BEuYI47VO6cet8w50AC90Mpr9xkHg&code_challenge_method=S256>https://accounts.google.com/o/oauth2/auth?client_id=517222506229-vsmmajv00ul0bs7p89v5m89qs8eb9359.apps.googleusercontent.com&scope=https%3A%2F%2Fwww.googleapis.com%2Fauth%2Fearthengine+https%3A%2F%2Fwww.googleapis.com%2Fauth%2Fdevstorage.full_control&redirect_uri=urn%3Aietf%3Awg%3Aoauth%3A2.0%3Aoob&response_type=code&code_challenge=8D8W3uE3n17xb4BEuYI47VO6cet8w50AC90Mpr9xkHg&code_challenge_method=S256</a></p>\n",
       "        <p>The authorization workflow will generate a code, which you\n",
       "        should paste in the box below</p>\n",
       "        "
      ],
      "text/plain": [
       "<IPython.core.display.HTML object>"
      ]
     },
     "metadata": {},
     "output_type": "display_data"
    },
    {
     "name": "stdout",
     "output_type": "stream",
     "text": [
      "\n",
      "Successfully saved authorization token.\n",
      "2\n",
      "Number of images : 644\n",
      "Done,{'state': 'READY', 'description': 'Kenya', 'creation_timestamp_ms': 1651849074374, 'update_timestamp_ms': 1651849074374, 'start_timestamp_ms': 0, 'task_type': 'EXPORT_IMAGE', 'id': '6UZ56B6QQCJ2GVRJF4GEZ4OW', 'name': 'projects/earthengine-legacy/operations/6UZ56B6QQCJ2GVRJF4GEZ4OW'}\n",
      "2\n",
      "Number of images : 14\n",
      "Done,{'state': 'READY', 'description': 'Kenya', 'creation_timestamp_ms': 1651849077320, 'update_timestamp_ms': 1651849077320, 'start_timestamp_ms': 0, 'task_type': 'EXPORT_IMAGE', 'id': 'RTFQLZ7KBFOMU5GMNQYWCXS5', 'name': 'projects/earthengine-legacy/operations/RTFQLZ7KBFOMU5GMNQYWCXS5'}\n",
      "2\n",
      "Number of images : 644\n",
      "Done,{'state': 'READY', 'description': 'Kenya', 'creation_timestamp_ms': 1651849080127, 'update_timestamp_ms': 1651849080127, 'start_timestamp_ms': 0, 'task_type': 'EXPORT_IMAGE', 'id': 'HSZ2SBH3TKTKB5ZX5CHALEQ6', 'name': 'projects/earthengine-legacy/operations/HSZ2SBH3TKTKB5ZX5CHALEQ6'}\n",
      "2\n",
      "Number of images : 14\n",
      "Done,{'state': 'READY', 'description': 'Kenya', 'creation_timestamp_ms': 1651849082927, 'update_timestamp_ms': 1651849082927, 'start_timestamp_ms': 0, 'task_type': 'EXPORT_IMAGE', 'id': 'FQSHF5QFNALBDWCNLHYYB4GZ', 'name': 'projects/earthengine-legacy/operations/FQSHF5QFNALBDWCNLHYYB4GZ'}\n"
     ]
    }
   ],
   "source": [
    "ee.Authenticate()\n",
    "_http_transport = httplib2.Http(disable_ssl_certificate_validation=True)\n",
    "ee.Initialize(http_transport=_http_transport)\n",
    "\n",
    "geojson_path = list(Path(Path.cwd()/\"Data\"/\"GeoJson\").resolve().iterdir())[0]\n",
    "countries = [\"South Africa\",\"Ethiopia\",\"Malawi\"]\n",
    "\n",
    "surface_extract = ObtainGEEdata(collection_name='MODIS/MOD09A1',date1='2002-01-01',date2='2016-01-01',countries=countries,geojson_path=str(geojson_path), bands_idx=[0,1,2,3,4,5,6],type_name = \"Surface\")\n",
    "landcover_extract = ObtainGEEdata(collection_name='MODIS/006/MCD12Q1',date1='2002-01-01',date2='2016-01-01',countries=countries,geojson_path=str(geojson_path),bands_idx=[0],type_name = \"LandCover\")\n",
    "temp_extract = ObtainGEEdata(collection_name='MODIS/MYD11A2',date1='2002-07-04',date2='2016-07-03',countries=countries,geojson_path=str(geojson_path),bands_idx=[0,4],type_name = \"Temperature\")    \n",
    "water_extract = ObtainGEEdata(collection_name='MODIS/006/MOD44W',date1='2002-01-01',date2='2016-01-01',countries=countries,geojson_path=str(geojson_path),bands_idx=[0,1],type_name = \"WaterCover\")"
   ]
  },
  {
   "cell_type": "code",
   "execution_count": null,
   "metadata": {},
   "outputs": [],
   "source": []
  }
 ],
 "metadata": {
  "interpreter": {
   "hash": "c578c3015b73d6d0ffc6ccd3e60904988030f2b820983c037d8dd6ea9f06fa22"
  },
  "kernelspec": {
   "display_name": "Python 3 (vanilla)",
   "language": "python",
   "name": "vanilla"
  },
  "language_info": {
   "codemirror_mode": {
    "name": "ipython",
    "version": 3
   },
   "file_extension": ".py",
   "mimetype": "text/x-python",
   "name": "python",
   "nbconvert_exporter": "python",
   "pygments_lexer": "ipython3",
   "version": "3.8.12"
  },
  "orig_nbformat": 4
 },
 "nbformat": 4,
 "nbformat_minor": 2
}
