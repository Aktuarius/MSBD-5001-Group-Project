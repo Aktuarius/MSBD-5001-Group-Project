{
 "cells": [
  {
   "cell_type": "code",
   "execution_count": 1,
   "metadata": {},
   "outputs": [],
   "source": [
    "import ee\n",
    "import json\n",
    "from pathlib import Path\n",
    "import httplib2\n",
    "import matplotlib.pyplot as plt\n",
    "import numpy as np\n",
    "import IPython.display as disp\n",
    "from osgeo import gdal"
   ]
  },
  {
   "cell_type": "markdown",
   "metadata": {},
   "source": [
    "Collecting MOD09A1 Imagery"
   ]
  },
  {
   "cell_type": "code",
   "execution_count": 2,
   "metadata": {},
   "outputs": [
    {
     "data": {
      "text/html": [
       "<p>To authorize access needed by Earth Engine, open the following\n",
       "        URL in a web browser and follow the instructions:</p>\n",
       "        <p><a href=https://accounts.google.com/o/oauth2/auth?client_id=517222506229-vsmmajv00ul0bs7p89v5m89qs8eb9359.apps.googleusercontent.com&scope=https%3A%2F%2Fwww.googleapis.com%2Fauth%2Fearthengine+https%3A%2F%2Fwww.googleapis.com%2Fauth%2Fdevstorage.full_control&redirect_uri=urn%3Aietf%3Awg%3Aoauth%3A2.0%3Aoob&response_type=code&code_challenge=lw5Q7iFY0z1ihcc69vqFOFPVWVvDeR7Ao2SFvnI1sVY&code_challenge_method=S256>https://accounts.google.com/o/oauth2/auth?client_id=517222506229-vsmmajv00ul0bs7p89v5m89qs8eb9359.apps.googleusercontent.com&scope=https%3A%2F%2Fwww.googleapis.com%2Fauth%2Fearthengine+https%3A%2F%2Fwww.googleapis.com%2Fauth%2Fdevstorage.full_control&redirect_uri=urn%3Aietf%3Awg%3Aoauth%3A2.0%3Aoob&response_type=code&code_challenge=lw5Q7iFY0z1ihcc69vqFOFPVWVvDeR7Ao2SFvnI1sVY&code_challenge_method=S256</a></p>\n",
       "        <p>The authorization workflow will generate a code, which you\n",
       "        should paste in the box below</p>\n",
       "        "
      ],
      "text/plain": [
       "<IPython.core.display.HTML object>"
      ]
     },
     "metadata": {},
     "output_type": "display_data"
    },
    {
     "name": "stdout",
     "output_type": "stream",
     "text": [
      "\n",
      "Successfully saved authorization token.\n",
      "Number of images : 378\n",
      "Done,{'state': 'READY', 'description': 'Kenya', 'creation_timestamp_ms': 1649605207493, 'update_timestamp_ms': 1649605207493, 'start_timestamp_ms': 0, 'task_type': 'EXPORT_IMAGE', 'id': '7EN3M256A34GAOBZ3Y26I7UC', 'name': 'projects/earthengine-legacy/operations/7EN3M256A34GAOBZ3Y26I7UC'}\n",
      "Number of images : 378\n",
      "Done,{'state': 'READY', 'description': 'Malawi', 'creation_timestamp_ms': 1649605210174, 'update_timestamp_ms': 1649605210174, 'start_timestamp_ms': 0, 'task_type': 'EXPORT_IMAGE', 'id': 'NIUNNXWW4TXOXACXWI2VA35Z', 'name': 'projects/earthengine-legacy/operations/NIUNNXWW4TXOXACXWI2VA35Z'}\n",
      "Number of images : 378\n",
      "Done,{'state': 'READY', 'description': 'Ethiopia', 'creation_timestamp_ms': 1649605212784, 'update_timestamp_ms': 1649605212784, 'start_timestamp_ms': 0, 'task_type': 'EXPORT_IMAGE', 'id': 'PEDO5AD52J36I2J3UZAUSDF2', 'name': 'projects/earthengine-legacy/operations/PEDO5AD52J36I2J3UZAUSDF2'}\n"
     ]
    }
   ],
   "source": [
    "import ee\n",
    "import json\n",
    "from pathlib import Path\n",
    "import httplib2\n",
    "import time\n",
    "\n",
    "ee.Authenticate()\n",
    "\n",
    "geojson_path = list(Path(Path.cwd()/\"Data\"/\"GeoJson\").resolve().iterdir())[0]\n",
    "geojson_path\n",
    "\n",
    "with open(geojson_path) as f:\n",
    "    data = json.load(f)\n",
    "#\"Kenya\",\"Malawi\"\n",
    "coords = {}\n",
    "countries = [\"Kenya\",\"Malawi\",\"Ethiopia\"]\n",
    "for j in countries:\n",
    "    for i in data['features']:\n",
    "        if i['properties']['name'] == j:\n",
    "            coords[j] = i['geometry']['coordinates'][0]\n",
    "            break\n",
    "\n",
    "\n",
    "def appendBands(now,running):\n",
    "    running = ee.Image(running)\n",
    "    now = now.select([0,1,2,3,4,5,6])\n",
    "    accum = ee.Algorithms.If(ee.Algorithms.IsEqual(running,None),now,running.addBands(ee.Image(now)))\n",
    "    return accum\n",
    "\n",
    "\n",
    "def exportImage(img,desc,region):\n",
    "    task = ee.batch.Export.image.toDrive(image=img,folder = f\"{desc}_Surface\",description = desc,region=region,scale=500,crs = 'EPSG:4326')\n",
    "    task.start()\n",
    "    while task.status()['state'] == \"RUNNING\":\n",
    "        print(\"Running...\")\n",
    "        time.sleep(10)\n",
    "    print(f\"Done,{task.status()}\")\n",
    "\n",
    "\n",
    "_http_transport = httplib2.Http(disable_ssl_certificate_validation=True)\n",
    "ee.Initialize(http_transport=_http_transport)\n",
    "\n",
    "for country in countries:\n",
    "    aoi = ee.Geometry.Polygon(coords[country])\n",
    "    imgcoll = ee.ImageCollection('MODIS/MOD09A1')\\\n",
    "                                .filterBounds(aoi)\\\n",
    "                                .filterDate(ee.Date('2009-01-01'),ee.Date('2022-01-01'))\n",
    "    print(f\"Number of images : {imgcoll.size().getInfo()}\")\n",
    "    img = imgcoll.iterate(appendBands)\n",
    "    img = ee.Image(img)\n",
    "    try:\n",
    "        exportImage(img,country,aoi)\n",
    "    except:\n",
    "        print(f'Failed:{country}')"
   ]
  },
  {
   "cell_type": "markdown",
   "metadata": {},
   "source": [
    "Collection MCD12Q1 Land Cover Imagery"
   ]
  },
  {
   "cell_type": "markdown",
   "metadata": {},
   "source": [
    "Each landcover image has one useful Band LC_Type1.\n",
    "\n",
    "We append the bands of each image in the image collection to get one big image. \n",
    "\n",
    "You get one image per year for landcover"
   ]
  },
  {
   "cell_type": "code",
   "execution_count": 3,
   "metadata": {},
   "outputs": [
    {
     "name": "stdout",
     "output_type": "stream",
     "text": [
      "Done,{'state': 'READY', 'description': 'Kenya', 'creation_timestamp_ms': 1649605214835, 'update_timestamp_ms': 1649605214835, 'start_timestamp_ms': 0, 'task_type': 'EXPORT_IMAGE', 'id': 'T4INE2PCB4ODK7HKCVFSKIOJ', 'name': 'projects/earthengine-legacy/operations/T4INE2PCB4ODK7HKCVFSKIOJ'}\n",
      "Done,{'state': 'READY', 'description': 'Ethiopia', 'creation_timestamp_ms': 1649605217101, 'update_timestamp_ms': 1649605217101, 'start_timestamp_ms': 0, 'task_type': 'EXPORT_IMAGE', 'id': '2T2UHENAN5W7OCKUMTUDQNLS', 'name': 'projects/earthengine-legacy/operations/2T2UHENAN5W7OCKUMTUDQNLS'}\n",
      "Done,{'state': 'READY', 'description': 'Malawi', 'creation_timestamp_ms': 1649605219415, 'update_timestamp_ms': 1649605219415, 'start_timestamp_ms': 0, 'task_type': 'EXPORT_IMAGE', 'id': 'OD2YLT4QDJSRLVJNYGI7CVEQ', 'name': 'projects/earthengine-legacy/operations/OD2YLT4QDJSRLVJNYGI7CVEQ'}\n"
     ]
    }
   ],
   "source": [
    "# ee.Authenticate()\n",
    "# _http_transport = httplib2.Http(disable_ssl_certificate_validation=True)\n",
    "# ee.Initialize(http_transport=_http_transport)\n",
    "\n",
    "geojson_path = list(Path(Path.cwd()/\"Data\"/\"GeoJson\").resolve().iterdir())[0]\n",
    "geojson_path\n",
    "\n",
    "with open(geojson_path) as f:\n",
    "    data = json.load(f)\n",
    "\n",
    "\n",
    "def appendBands_landCover(now,running):\n",
    "    running = ee.Image(running)\n",
    "    #Select the Annual IGBP Classification\n",
    "    now = now.select([0])\n",
    "    accum = ee.Algorithms.If(ee.Algorithms.IsEqual(running,None),now,running.addBands(ee.Image(now)))\n",
    "    return accum\n",
    "\n",
    "def exportImage(img,desc,folder,region):\n",
    "    task = ee.batch.Export.image.toDrive(image = img,description=desc,folder = f\"{folder}_LandCover\",region = region,scale=500,crs = 'EPSG:4326')\n",
    "    task.start()\n",
    "    while task.status()['state'] == \"RUNNING\":\n",
    "        print(\"Running...\")\n",
    "        time.sleep(10)\n",
    "    print(f\"Done,{task.status()}\")\n",
    "\n",
    "coords = {}\n",
    "countries = [\"Kenya\",\"Ethiopia\",\"Malawi\"]\n",
    "for j in countries:\n",
    "    for i in data['features']:\n",
    "        if i['properties']['name'] == j:\n",
    "            coords[j] = i['geometry']['coordinates'][0]\n",
    "            break\n",
    "\n",
    "for country in countries:\n",
    "    aoi_landcover = ee.Geometry.Polygon(coords[country])\n",
    "    landcovercol = ee.ImageCollection('MODIS/006/MCD12Q1')\\\n",
    "                                    .filterBounds(aoi_landcover)\\\n",
    "                                    .filterDate(ee.Date('2009-01-01'),ee.Date('2022-01-01'))   \n",
    "    #append the bands of each image in the collection into one band\n",
    "    landcovercol = landcovercol.iterate(appendBands_landCover)\n",
    "    #make the appended into an image again\n",
    "    landcovercol = ee.Image(landcovercol)\n",
    "    try:\n",
    "       exportImage(landcovercol,desc = country,folder = country,region = aoi_landcover)\n",
    "    except:\n",
    "        print(f\"Failed:{country}\")        "
   ]
  },
  {
   "cell_type": "code",
   "execution_count": 4,
   "metadata": {},
   "outputs": [],
   "source": [
    "# ee.Authenticate()\n",
    "# _http_transport = httplib2.Http(disable_ssl_certificate_validation=True)\n",
    "# ee.Initialize(http_transport=_http_transport)\n",
    "\n",
    "\n",
    "# def appendBands_landCover(now,running):\n",
    "#     running = ee.Image(running)\n",
    "#     #Select the Annual IGBP Classification\n",
    "#     now = now.select([0])\n",
    "#     accum = ee.Algorithms.If(ee.Algorithms.IsEqual(running,None),now,running.addBands(ee.Image(now)))\n",
    "#     return accum\n",
    "\n",
    "\n",
    "# # imgcoll = ee.ImageCollection('MODIS/MOD09A1') \\\n",
    "# #     .filterBounds(ee.Geometry.Rectangle(-106.5, 50,-64, 23))\\\n",
    "# #     .filterDate('2001-12-31','2015-12-31')\n",
    "# imgcoll = ee.ImageCollection('MODIS/006/MCD12Q1') \\\n",
    "#     .filterBounds(ee.Geometry.Rectangle(-106.5, 50,-64, 23))\\\n",
    "#     .filterDate('2001-12-31','2015-12-31')\n",
    "# # img=imgcoll.iterate(appendBands_landCover)"
   ]
  },
  {
   "cell_type": "code",
   "execution_count": 5,
   "metadata": {},
   "outputs": [
    {
     "name": "stdout",
     "output_type": "stream",
     "text": [
      "Done,{'state': 'READY', 'description': 'Kenya', 'creation_timestamp_ms': 1649605222172, 'update_timestamp_ms': 1649605222172, 'start_timestamp_ms': 0, 'task_type': 'EXPORT_IMAGE', 'id': 'SICWPLNTFNZXZMUZVF567DPI', 'name': 'projects/earthengine-legacy/operations/SICWPLNTFNZXZMUZVF567DPI'}\n",
      "Done,{'state': 'READY', 'description': 'Ethiopia', 'creation_timestamp_ms': 1649605223985, 'update_timestamp_ms': 1649605223985, 'start_timestamp_ms': 0, 'task_type': 'EXPORT_IMAGE', 'id': 'MLGNDTJCRYW6PKFJUUJNIIZG', 'name': 'projects/earthengine-legacy/operations/MLGNDTJCRYW6PKFJUUJNIIZG'}\n",
      "Done,{'state': 'READY', 'description': 'Malawi', 'creation_timestamp_ms': 1649605225627, 'update_timestamp_ms': 1649605225627, 'start_timestamp_ms': 0, 'task_type': 'EXPORT_IMAGE', 'id': 'X3BAQ5LNVRSINWRXVRTTOT3T', 'name': 'projects/earthengine-legacy/operations/X3BAQ5LNVRSINWRXVRTTOT3T'}\n"
     ]
    }
   ],
   "source": [
    "# ee.Authenticate()\n",
    "# _http_transport = httplib2.Http(disable_ssl_certificate_validation=True)\n",
    "# ee.Initialize(http_transport=_http_transport)\n",
    "\n",
    "geojson_path = list(Path(Path.cwd()/\"Data\"/\"GeoJson\").resolve().iterdir())[0]\n",
    "geojson_path\n",
    "\n",
    "with open(geojson_path) as f:\n",
    "    data = json.load(f)\n",
    "\n",
    "#Bands being used : 'LST_Day_1km', 'LST_Night_1km'\n",
    "def appendBands_landCover(now,running):\n",
    "    running = ee.Image(running)\n",
    "    #Select the Annual IGBP Classification\n",
    "    now = now.select([0,4])\n",
    "    accum = ee.Algorithms.If(ee.Algorithms.IsEqual(running,None),now,running.addBands(ee.Image(now)))\n",
    "    return accum\n",
    "\n",
    "def exportImage(img,desc,folder,region):\n",
    "    task = ee.batch.Export.image.toDrive(image = img,description=desc,folder = f\"{folder}_Temperature\",region = region,scale=500,crs = 'EPSG:4326')\n",
    "    task.start()\n",
    "    while task.status()['state'] == \"RUNNING\":\n",
    "        print(\"Running...\")\n",
    "        time.sleep(10)\n",
    "    print(f\"Done,{task.status()}\")\n",
    "\n",
    "coords = {}\n",
    "countries = [\"Kenya\",\"Ethiopia\",\"Malawi\"]\n",
    "for j in countries:\n",
    "    for i in data['features']:\n",
    "        if i['properties']['name'] == j:\n",
    "            coords[j] = i['geometry']['coordinates'][0]\n",
    "            break\n",
    "\n",
    "for country in countries:\n",
    "    aoi_temp = ee.Geometry.Polygon(coords[country])\n",
    "    tempcol = ee.ImageCollection('MODIS/MYD11A2')\\\n",
    "                                    .filterBounds(aoi_temp)\\\n",
    "                                    .filterDate(ee.Date('2009-01-01'),ee.Date('2022-01-01'))   \n",
    "    #append the bands of each image in the collection into one band\n",
    "    tempcol = tempcol.iterate(appendBands_landCover)\n",
    "    #make the appended into an image again\n",
    "    tempcol = ee.Image(tempcol)\n",
    "    try:\n",
    "       exportImage(tempcol,desc = country,folder = country,region = aoi_temp)\n",
    "    except:\n",
    "        print(f\"Failed:{country}\")        "
   ]
  },
  {
   "cell_type": "markdown",
   "metadata": {},
   "source": [
    "Required Code ends at this point. All other code is test code"
   ]
  },
  {
   "cell_type": "code",
   "execution_count": null,
   "metadata": {},
   "outputs": [],
   "source": [
    "aoi_landcover = ee.Geometry.Polygon(coords[\"Kenya\"])\n",
    "tempcol1 = ee.ImageCollection('MODIS/MYD11A2')\\\n",
    "                                    .filterBounds(aoi_landcover)\\\n",
    "                                    .filterDate(ee.Date('2009-01-01'),ee.Date('2022-01-01'))   "
   ]
  },
  {
   "cell_type": "code",
   "execution_count": null,
   "metadata": {},
   "outputs": [],
   "source": [
    "aoi = ee.Geometry.Polygon(coords[\"Kenya\"])\n",
    "imgcol = ee.ImageCollection('MODIS/MOD09A1')\\\n",
    "                                .filterBounds(aoi)\\\n",
    "                                .filterDate(ee.Date('2009-01-01'),ee.Date('2022-01-01'))"
   ]
  },
  {
   "cell_type": "code",
   "execution_count": null,
   "metadata": {},
   "outputs": [],
   "source": [
    "aoi_landcover = ee.Geometry.Polygon(coords[\"Kenya\"])\n",
    "landcovercol = ee.ImageCollection('MODIS/006/MCD12Q1')\\\n",
    "                                .filterBounds(aoi_landcover)\\\n",
    "                                .filterDate(ee.Date('2009-01-01'),ee.Date('2022-01-01'))   "
   ]
  },
  {
   "cell_type": "code",
   "execution_count": null,
   "metadata": {},
   "outputs": [
    {
     "data": {
      "text/plain": [
       "{'type': 'Image',\n",
       " 'bands': [{'id': 'sur_refl_b01',\n",
       "   'data_type': {'type': 'PixelType',\n",
       "    'precision': 'int',\n",
       "    'min': -2147483648,\n",
       "    'max': 2147483647},\n",
       "   'dimensions': [86400, 43200],\n",
       "   'crs': 'SR-ORG:6974',\n",
       "   'crs_transform': [463.3127165279165,\n",
       "    0,\n",
       "    -20015109.353988,\n",
       "    0,\n",
       "    -463.3127165274999,\n",
       "    10007554.676994]}],\n",
       " 'version': 1505449763721124,\n",
       " 'id': 'MODIS/MOD09A1/MOD09A1_005_2009_01_01',\n",
       " 'properties': {'system:time_start': 1230768000000,\n",
       "  'system:footprint': {'type': 'LinearRing',\n",
       "   'coordinates': [[-180, -90],\n",
       "    [180, -90],\n",
       "    [180, 90],\n",
       "    [-180, 90],\n",
       "    [-180, -90]]},\n",
       "  'system:time_end': 1231459200000,\n",
       "  'system:asset_size': 23210964357,\n",
       "  'system:index': 'MOD09A1_005_2009_01_01'}}"
      ]
     },
     "execution_count": 115,
     "metadata": {},
     "output_type": "execute_result"
    }
   ],
   "source": [
    "imgcol.first().select([0]).arrayDimensions().getInfo()"
   ]
  },
  {
   "cell_type": "code",
   "execution_count": null,
   "metadata": {},
   "outputs": [
    {
     "data": {
      "text/plain": [
       "{'type': 'Image',\n",
       " 'bands': [{'id': 'LST_Day_1km',\n",
       "   'data_type': {'type': 'PixelType',\n",
       "    'precision': 'int',\n",
       "    'min': -2147483648,\n",
       "    'max': 2147483647},\n",
       "   'dimensions': [43200, 21600],\n",
       "   'crs': 'SR-ORG:6974',\n",
       "   'crs_transform': [926.625433055833,\n",
       "    0,\n",
       "    -20015109.353988,\n",
       "    0,\n",
       "    -926.6254330549998,\n",
       "    10007554.676994]}],\n",
       " 'version': 1505449767505268,\n",
       " 'id': 'MODIS/MYD11A2/MYD11A2_005_2009_01_01',\n",
       " 'properties': {'system:time_start': 1230768000000,\n",
       "  'system:footprint': {'type': 'LinearRing',\n",
       "   'coordinates': [[-180, -90],\n",
       "    [180, -90],\n",
       "    [180, 90],\n",
       "    [-180, 90],\n",
       "    [-180, -90]]},\n",
       "  'system:time_end': 1231459200000,\n",
       "  'system:asset_size': 1073728585,\n",
       "  'system:index': 'MYD11A2_005_2009_01_01'}}"
      ]
     },
     "execution_count": 118,
     "metadata": {},
     "output_type": "execute_result"
    }
   ],
   "source": [
    "tempcol1.first().select([0]).arrayDimensions().getInfo()"
   ]
  },
  {
   "cell_type": "code",
   "execution_count": null,
   "metadata": {},
   "outputs": [
    {
     "data": {
      "text/plain": [
       "378"
      ]
     },
     "execution_count": 82,
     "metadata": {},
     "output_type": "execute_result"
    }
   ],
   "source": [
    "#27 images per year (13 years)\n",
    "imgcoll.size().getInfo()"
   ]
  },
  {
   "cell_type": "code",
   "execution_count": null,
   "metadata": {},
   "outputs": [
    {
     "data": {
      "text/plain": [
       "379"
      ]
     },
     "execution_count": 83,
     "metadata": {},
     "output_type": "execute_result"
    }
   ],
   "source": [
    "#27 images per year(ignore the last one)\n",
    "tempcol.size().getInfo()"
   ]
  },
  {
   "cell_type": "code",
   "execution_count": null,
   "metadata": {},
   "outputs": [
    {
     "data": {
      "text/plain": [
       "['LST_Day_1km',\n",
       " 'QC_Day',\n",
       " 'Day_view_time',\n",
       " 'Day_view_angl',\n",
       " 'LST_Night_1km',\n",
       " 'QC_Night',\n",
       " 'Night_view_time',\n",
       " 'Night_view_angl',\n",
       " 'Emis_31',\n",
       " 'Emis_32',\n",
       " 'Clear_sky_days',\n",
       " 'Clear_sky_nights']"
      ]
     },
     "execution_count": 48,
     "metadata": {},
     "output_type": "execute_result"
    }
   ],
   "source": [
    "img.bandNames().getInfo()"
   ]
  },
  {
   "cell_type": "code",
   "execution_count": null,
   "metadata": {},
   "outputs": [
    {
     "data": {
      "text/plain": [
       "['LST_Day_1km', 'LST_Night_1km']"
      ]
     },
     "execution_count": 49,
     "metadata": {},
     "output_type": "execute_result"
    }
   ],
   "source": [
    "img.select([0,4]).bandNames().getInfo()"
   ]
  },
  {
   "cell_type": "code",
   "execution_count": null,
   "metadata": {},
   "outputs": [],
   "source": [
    "imgcoll = ee.ImageCollection('MODIS/MOD09A1') \\\n",
    "    .filterBounds(ee.Geometry.Rectangle(-106.5, 50,-64, 23))\\\n",
    "    .filterDate('2001-12-31','2015-12-31')"
   ]
  },
  {
   "cell_type": "code",
   "execution_count": null,
   "metadata": {},
   "outputs": [
    {
     "data": {
      "text/plain": [
       "{'type': 'Image',\n",
       " 'bands': [{'id': 'sur_refl_b01',\n",
       "   'data_type': {'type': 'PixelType',\n",
       "    'precision': 'int',\n",
       "    'min': -2147483648,\n",
       "    'max': 2147483647},\n",
       "   'dimensions': [86400, 43200],\n",
       "   'crs': 'SR-ORG:6974',\n",
       "   'crs_transform': [463.3127165279165,\n",
       "    0,\n",
       "    -20015109.353988,\n",
       "    0,\n",
       "    -463.3127165274999,\n",
       "    10007554.676994]}],\n",
       " 'version': 1505449805657819,\n",
       " 'id': 'MODIS/MOD09A1/MOD09A1_005_2002_01_01',\n",
       " 'properties': {'system:time_start': 1009843200000,\n",
       "  'system:footprint': {'type': 'LinearRing',\n",
       "   'coordinates': [[-180, -90],\n",
       "    [180, -90],\n",
       "    [180, 90],\n",
       "    [-180, 90],\n",
       "    [-180, -90]]},\n",
       "  'system:time_end': 1010534400000,\n",
       "  'system:asset_size': 22803537727,\n",
       "  'system:index': 'MOD09A1_005_2002_01_01'}}"
      ]
     },
     "execution_count": 104,
     "metadata": {},
     "output_type": "execute_result"
    }
   ],
   "source": [
    "imgcoll.first().select([0]).arrayDimensions().getInfo()"
   ]
  },
  {
   "cell_type": "code",
   "execution_count": null,
   "metadata": {},
   "outputs": [],
   "source": [
    "lccoll = ee.ImageCollection('MODIS/006/MCD12Q1') \\\n",
    "    .filterBounds(ee.Geometry.Rectangle(-106.5, 50,-64, 23))\\\n",
    "    .filterDate('2001-12-31','2015-12-31')"
   ]
  },
  {
   "cell_type": "code",
   "execution_count": null,
   "metadata": {},
   "outputs": [
    {
     "data": {
      "text/plain": [
       "14"
      ]
     },
     "execution_count": 66,
     "metadata": {},
     "output_type": "execute_result"
    }
   ],
   "source": [
    "lccoll.size().getInfo()"
   ]
  },
  {
   "cell_type": "code",
   "execution_count": null,
   "metadata": {},
   "outputs": [
    {
     "name": "stdout",
     "output_type": "stream",
     "text": [
      "Done,{'state': 'READY', 'description': 'Temp', 'creation_timestamp_ms': 1649602910429, 'update_timestamp_ms': 1649602910429, 'start_timestamp_ms': 0, 'task_type': 'EXPORT_IMAGE', 'id': 'BO36CQO555QQYTOQGAZUDPY6', 'name': 'projects/earthengine-legacy/operations/BO36CQO555QQYTOQGAZUDPY6'}\n"
     ]
    }
   ],
   "source": [
    "tempcoll = ee.ImageCollection('MODIS/MYD11A2') \\\n",
    "    .filterBounds(ee.Geometry.Rectangle(-106.5, 50,-64, 23))\\\n",
    "    .filterDate('2002-12-31','2015-12-31')\n",
    "\n",
    "tempcoll = tempcoll.iterate(appendBands_landCover)\n",
    "tempimg = ee.Image(tempcoll)\n",
    "exportImage(tempimg,desc = \"Temp\",folder = \"Temp\",region = ee.Geometry.Rectangle(-106.5, 50,-64, 23))"
   ]
  },
  {
   "cell_type": "code",
   "execution_count": null,
   "metadata": {},
   "outputs": [
    {
     "name": "stdout",
     "output_type": "stream",
     "text": [
      "Done,{'state': 'READY', 'description': 'Temp', 'creation_timestamp_ms': 1649603338103, 'update_timestamp_ms': 1649603338103, 'start_timestamp_ms': 0, 'task_type': 'EXPORT_IMAGE', 'id': '35JY7YXCTG3CBVUMV4UJTVKQ', 'name': 'projects/earthengine-legacy/operations/35JY7YXCTG3CBVUMV4UJTVKQ'}\n"
     ]
    }
   ],
   "source": [
    "def appendBands(now,running):\n",
    "    running = ee.Image(running)\n",
    "    now = now.select([0,1,2,3,4,5,6])\n",
    "    accum = ee.Algorithms.If(ee.Algorithms.IsEqual(running,None),now,running.addBands(ee.Image(now)))\n",
    "    return accum\n",
    "\n",
    "\n",
    "def exportImage(img,desc,region):\n",
    "    task = ee.batch.Export.image.toDrive(image=img,folder = f\"{desc}_Surface\",description = desc,region=region)\n",
    "    task.start()\n",
    "    while task.status()['state'] == \"RUNNING\":\n",
    "        print(\"Running...\")\n",
    "        time.sleep(10)\n",
    "    print(f\"Done,{task.status()}\")\n",
    "\n",
    "imgcoll = ee.ImageCollection('MODIS/MOD09A1') \\\n",
    "    .filterBounds(ee.Geometry.Rectangle(-106.5, 50,-64, 23))\\\n",
    "    .filterDate('2001-12-31','2015-12-31')\n",
    "\n",
    "imgcoll = imgcoll.iterate(appendBands_landCover)\n",
    "img = ee.Image(imgcoll)\n",
    "exportImage(img,desc = \"Temp\",region = ee.Geometry.Rectangle(-106.5, 50,-64, 23))"
   ]
  },
  {
   "cell_type": "code",
   "execution_count": null,
   "metadata": {},
   "outputs": [
    {
     "data": {
      "text/plain": [
       "{'type': 'Image',\n",
       " 'bands': [{'id': 'LST_Day_1km',\n",
       "   'data_type': {'type': 'PixelType',\n",
       "    'precision': 'int',\n",
       "    'min': -2147483648,\n",
       "    'max': 2147483647},\n",
       "   'dimensions': [43200, 21600],\n",
       "   'crs': 'SR-ORG:6974',\n",
       "   'crs_transform': [926.625433055833,\n",
       "    0,\n",
       "    -20015109.353988,\n",
       "    0,\n",
       "    -926.6254330549998,\n",
       "    10007554.676994]}],\n",
       " 'version': 1505449760317145,\n",
       " 'id': 'MODIS/MYD11A2/MYD11A2_005_2003_01_01',\n",
       " 'properties': {'system:time_start': 1041379200000,\n",
       "  'system:footprint': {'type': 'LinearRing',\n",
       "   'coordinates': [[-180, -90],\n",
       "    [180, -90],\n",
       "    [180, 90],\n",
       "    [-180, 90],\n",
       "    [-180, -90]]},\n",
       "  'system:time_end': 1042070400000,\n",
       "  'system:asset_size': 1073567625,\n",
       "  'system:index': 'MYD11A2_005_2003_01_01'}}"
      ]
     },
     "execution_count": 106,
     "metadata": {},
     "output_type": "execute_result"
    }
   ],
   "source": [
    "tempcoll.first().select([0]).arrayDimensions().getInfo()"
   ]
  },
  {
   "cell_type": "code",
   "execution_count": null,
   "metadata": {},
   "outputs": [],
   "source": []
  }
 ],
 "metadata": {
  "interpreter": {
   "hash": "c578c3015b73d6d0ffc6ccd3e60904988030f2b820983c037d8dd6ea9f06fa22"
  },
  "kernelspec": {
   "display_name": "Python 3.8.12 (conda)",
   "language": "python",
   "name": "python3"
  },
  "language_info": {
   "codemirror_mode": {
    "name": "ipython",
    "version": 3
   },
   "file_extension": ".py",
   "mimetype": "text/x-python",
   "name": "python",
   "nbconvert_exporter": "python",
   "pygments_lexer": "ipython3",
   "version": "3.8.12"
  },
  "orig_nbformat": 4
 },
 "nbformat": 4,
 "nbformat_minor": 2
}
